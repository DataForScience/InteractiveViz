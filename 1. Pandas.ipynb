{
 "cells": [
  {
   "cell_type": "markdown",
   "metadata": {},
   "source": [
    "<div style=\"width: 100%; overflow: hidden;\">\n",
    "    <div style=\"width: 150px; float: left;\"> <img src=\"data/D4Sci_logo_ball.png\" alt=\"Data For Science, Inc\" align=\"left\" border=\"0\"> </div>\n",
    "    <div style=\"float: left; margin-left: 10px;\"> \n",
    "        <h1>Interactive Visualization</h1>\n",
    "        <h1>Pandas</h1>\n",
    "        <p>Bruno Gonçalves<br/>\n",
    "        <a href=\"http://www.data4sci.com/\">www.data4sci.com</a><br/>\n",
    "        @bgoncalves, @data4sci</p></div>\n",
    "</div>"
   ]
  },
  {
   "cell_type": "markdown",
   "metadata": {},
   "source": [
    "The first step is to import the relevant headers. **pyplot** is the workhorse that we will use to perform most of the work. We will also use **image**, **patches** and **collections**. We're also importing numpy and pandas for convenience in data manipulation."
   ]
  },
  {
   "cell_type": "code",
   "execution_count": 1,
   "metadata": {},
   "outputs": [],
   "source": [
    "import matplotlib.pyplot as plt\n",
    "\n",
    "import matplotlib.image as mpimg\n",
    "from matplotlib.patches import Rectangle\n",
    "from matplotlib.collections import PatchCollection\n",
    "\n",
    "import numpy as np\n",
    "import pandas as pd\n",
    "\n",
    "import watermark\n",
    "\n",
    "%load_ext watermark\n",
    "%matplotlib inline"
   ]
  },
  {
   "cell_type": "markdown",
   "metadata": {},
   "source": [
    "The **%matplotlib inline** magic function indicates to jupyter that we want our matplotlib figures to be embedded directly in the notebook. And **%load_ext watermark** loads the watermark extension that is useful to print out the versions of the libraries we'll be using."
   ]
  },
  {
   "cell_type": "code",
   "execution_count": 2,
   "metadata": {},
   "outputs": [
    {
     "name": "stdout",
     "output_type": "stream",
     "text": [
      "Python implementation: CPython\n",
      "Python version       : 3.11.7\n",
      "IPython version      : 8.12.3\n",
      "\n",
      "Compiler    : Clang 14.0.6 \n",
      "OS          : Darwin\n",
      "Release     : 23.5.0\n",
      "Machine     : arm64\n",
      "Processor   : arm\n",
      "CPU cores   : 16\n",
      "Architecture: 64bit\n",
      "\n",
      "Git hash: 14930659bf970db69b3f255cb4cfa30c7f9678e9\n",
      "\n",
      "numpy     : 1.26.4\n",
      "watermark : 2.4.3\n",
      "matplotlib: 3.8.0\n",
      "pandas    : 2.1.4\n",
      "json      : 2.0.9\n",
      "\n"
     ]
    }
   ],
   "source": [
    "%watermark -n -v -m -g -iv"
   ]
  },
  {
   "cell_type": "markdown",
   "metadata": {},
   "source": [
    "Set the default size of all figures to 11x8 inches"
   ]
  },
  {
   "cell_type": "code",
   "execution_count": 3,
   "metadata": {},
   "outputs": [],
   "source": [
    "plt.rcParams[\"figure.figsize\"] = (11, 8)"
   ]
  },
  {
   "cell_type": "markdown",
   "metadata": {},
   "source": [
    "## DataFrames and Series"
   ]
  },
  {
   "cell_type": "markdown",
   "metadata": {},
   "source": [
    "Series and DataFrames can be thought of as dictionaries associating keys to lists of values"
   ]
  },
  {
   "cell_type": "code",
   "execution_count": 4,
   "metadata": {},
   "outputs": [],
   "source": [
    "data = {  \"id\": [23,    42,      12,     86], \n",
    "        \"Name\": [\"Bob\", \"Karen\", \"Kate\", \"Bill\"]}"
   ]
  },
  {
   "cell_type": "code",
   "execution_count": 5,
   "metadata": {},
   "outputs": [
    {
     "data": {
      "text/plain": [
       "{'id': [23, 42, 12, 86], 'Name': ['Bob', 'Karen', 'Kate', 'Bill']}"
      ]
     },
     "execution_count": 5,
     "metadata": {},
     "output_type": "execute_result"
    }
   ],
   "source": [
    "data"
   ]
  },
  {
   "cell_type": "markdown",
   "metadata": {},
   "source": [
    "A Series corresponds to just a sigle list of values"
   ]
  },
  {
   "cell_type": "code",
   "execution_count": 6,
   "metadata": {},
   "outputs": [],
   "source": [
    "series = pd.Series(data[\"id\"])"
   ]
  },
  {
   "cell_type": "code",
   "execution_count": 7,
   "metadata": {},
   "outputs": [
    {
     "data": {
      "text/plain": [
       "0    23\n",
       "1    42\n",
       "2    12\n",
       "3    86\n",
       "dtype: int64"
      ]
     },
     "execution_count": 7,
     "metadata": {},
     "output_type": "execute_result"
    }
   ],
   "source": [
    "series"
   ]
  },
  {
   "cell_type": "markdown",
   "metadata": {},
   "source": [
    "While a DataFrame can have multiple series/columns"
   ]
  },
  {
   "cell_type": "code",
   "execution_count": 8,
   "metadata": {},
   "outputs": [],
   "source": [
    " df = pd.DataFrame(data)"
   ]
  },
  {
   "cell_type": "code",
   "execution_count": 9,
   "metadata": {},
   "outputs": [
    {
     "data": {
      "text/html": [
       "<div>\n",
       "<style scoped>\n",
       "    .dataframe tbody tr th:only-of-type {\n",
       "        vertical-align: middle;\n",
       "    }\n",
       "\n",
       "    .dataframe tbody tr th {\n",
       "        vertical-align: top;\n",
       "    }\n",
       "\n",
       "    .dataframe thead th {\n",
       "        text-align: right;\n",
       "    }\n",
       "</style>\n",
       "<table border=\"1\" class=\"dataframe\">\n",
       "  <thead>\n",
       "    <tr style=\"text-align: right;\">\n",
       "      <th></th>\n",
       "      <th>id</th>\n",
       "      <th>Name</th>\n",
       "    </tr>\n",
       "  </thead>\n",
       "  <tbody>\n",
       "    <tr>\n",
       "      <th>0</th>\n",
       "      <td>23</td>\n",
       "      <td>Bob</td>\n",
       "    </tr>\n",
       "    <tr>\n",
       "      <th>1</th>\n",
       "      <td>42</td>\n",
       "      <td>Karen</td>\n",
       "    </tr>\n",
       "    <tr>\n",
       "      <th>2</th>\n",
       "      <td>12</td>\n",
       "      <td>Kate</td>\n",
       "    </tr>\n",
       "    <tr>\n",
       "      <th>3</th>\n",
       "      <td>86</td>\n",
       "      <td>Bill</td>\n",
       "    </tr>\n",
       "  </tbody>\n",
       "</table>\n",
       "</div>"
      ],
      "text/plain": [
       "   id   Name\n",
       "0  23    Bob\n",
       "1  42  Karen\n",
       "2  12   Kate\n",
       "3  86   Bill"
      ]
     },
     "execution_count": 9,
     "metadata": {},
     "output_type": "execute_result"
    }
   ],
   "source": [
    "df"
   ]
  },
  {
   "cell_type": "markdown",
   "metadata": {},
   "source": [
    "Another way of looking at it, is that DataFrames are essentially groups of individual Series. Each Series can have it's own datatype **dtype**"
   ]
  },
  {
   "cell_type": "code",
   "execution_count": 11,
   "metadata": {},
   "outputs": [
    {
     "data": {
      "text/plain": [
       "id       int64\n",
       "Name    object\n",
       "dtype: object"
      ]
     },
     "execution_count": 11,
     "metadata": {},
     "output_type": "execute_result"
    }
   ],
   "source": [
    "df.dtypes"
   ]
  },
  {
   "cell_type": "markdown",
   "metadata": {},
   "source": [
    "We can get general information about how the DataFrame is being stored by calling __info()__"
   ]
  },
  {
   "cell_type": "code",
   "execution_count": 12,
   "metadata": {},
   "outputs": [
    {
     "name": "stdout",
     "output_type": "stream",
     "text": [
      "<class 'pandas.core.frame.DataFrame'>\n",
      "RangeIndex: 4 entries, 0 to 3\n",
      "Data columns (total 2 columns):\n",
      " #   Column  Non-Null Count  Dtype \n",
      "---  ------  --------------  ----- \n",
      " 0   id      4 non-null      int64 \n",
      " 1   Name    4 non-null      object\n",
      "dtypes: int64(1), object(1)\n",
      "memory usage: 196.0+ bytes\n"
     ]
    }
   ],
   "source": [
    "df.info()"
   ]
  },
  {
   "cell_type": "markdown",
   "metadata": {},
   "source": [
    "Subsetting a DataFrame by column name we retrieve the underlying Series"
   ]
  },
  {
   "cell_type": "code",
   "execution_count": 13,
   "metadata": {},
   "outputs": [
    {
     "data": {
      "text/plain": [
       "pandas.core.series.Series"
      ]
     },
     "execution_count": 13,
     "metadata": {},
     "output_type": "execute_result"
    }
   ],
   "source": [
    "type(df['id'])"
   ]
  },
  {
   "cell_type": "markdown",
   "metadata": {},
   "source": [
    "Both columns and index values have types and possibly names"
   ]
  },
  {
   "cell_type": "code",
   "execution_count": 14,
   "metadata": {},
   "outputs": [
    {
     "data": {
      "text/plain": [
       "Index(['id', 'Name'], dtype='object')"
      ]
     },
     "execution_count": 14,
     "metadata": {},
     "output_type": "execute_result"
    }
   ],
   "source": [
    "df.columns"
   ]
  },
  {
   "cell_type": "code",
   "execution_count": 15,
   "metadata": {},
   "outputs": [
    {
     "data": {
      "text/plain": [
       "RangeIndex(start=0, stop=4, step=1)"
      ]
     },
     "execution_count": 15,
     "metadata": {},
     "output_type": "execute_result"
    }
   ],
   "source": [
    "df.index"
   ]
  },
  {
   "cell_type": "markdown",
   "metadata": {},
   "source": [
    "And we can query the shape and number of dimensions of the DataFrame easily"
   ]
  },
  {
   "cell_type": "code",
   "execution_count": 16,
   "metadata": {},
   "outputs": [
    {
     "data": {
      "text/plain": [
       "(4, 2)"
      ]
     },
     "execution_count": 16,
     "metadata": {},
     "output_type": "execute_result"
    }
   ],
   "source": [
    "df.shape"
   ]
  },
  {
   "cell_type": "code",
   "execution_count": 17,
   "metadata": {},
   "outputs": [
    {
     "data": {
      "text/plain": [
       "2"
      ]
     },
     "execution_count": 17,
     "metadata": {},
     "output_type": "execute_result"
    }
   ],
   "source": [
    "df.ndim"
   ]
  },
  {
   "cell_type": "markdown",
   "metadata": {},
   "source": [
    "And relabel both index and column values"
   ]
  },
  {
   "cell_type": "code",
   "execution_count": 18,
   "metadata": {},
   "outputs": [],
   "source": [
    "df.index = [\"row\" + str(i) for i in range(4)]\n",
    "df.columns = ['ID', 'First Name']"
   ]
  },
  {
   "cell_type": "code",
   "execution_count": 19,
   "metadata": {},
   "outputs": [
    {
     "data": {
      "text/html": [
       "<div>\n",
       "<style scoped>\n",
       "    .dataframe tbody tr th:only-of-type {\n",
       "        vertical-align: middle;\n",
       "    }\n",
       "\n",
       "    .dataframe tbody tr th {\n",
       "        vertical-align: top;\n",
       "    }\n",
       "\n",
       "    .dataframe thead th {\n",
       "        text-align: right;\n",
       "    }\n",
       "</style>\n",
       "<table border=\"1\" class=\"dataframe\">\n",
       "  <thead>\n",
       "    <tr style=\"text-align: right;\">\n",
       "      <th></th>\n",
       "      <th>ID</th>\n",
       "      <th>First Name</th>\n",
       "    </tr>\n",
       "  </thead>\n",
       "  <tbody>\n",
       "    <tr>\n",
       "      <th>row0</th>\n",
       "      <td>23</td>\n",
       "      <td>Bob</td>\n",
       "    </tr>\n",
       "    <tr>\n",
       "      <th>row1</th>\n",
       "      <td>42</td>\n",
       "      <td>Karen</td>\n",
       "    </tr>\n",
       "    <tr>\n",
       "      <th>row2</th>\n",
       "      <td>12</td>\n",
       "      <td>Kate</td>\n",
       "    </tr>\n",
       "    <tr>\n",
       "      <th>row3</th>\n",
       "      <td>86</td>\n",
       "      <td>Bill</td>\n",
       "    </tr>\n",
       "  </tbody>\n",
       "</table>\n",
       "</div>"
      ],
      "text/plain": [
       "      ID First Name\n",
       "row0  23        Bob\n",
       "row1  42      Karen\n",
       "row2  12       Kate\n",
       "row3  86       Bill"
      ]
     },
     "execution_count": 19,
     "metadata": {},
     "output_type": "execute_result"
    }
   ],
   "source": [
    "df"
   ]
  },
  {
   "cell_type": "code",
   "execution_count": 20,
   "metadata": {},
   "outputs": [
    {
     "data": {
      "text/plain": [
       "ID               42\n",
       "First Name    Karen\n",
       "Name: row1, dtype: object"
      ]
     },
     "execution_count": 20,
     "metadata": {},
     "output_type": "execute_result"
    }
   ],
   "source": [
    "df.loc['row1']"
   ]
  },
  {
   "cell_type": "code",
   "execution_count": 21,
   "metadata": {},
   "outputs": [
    {
     "data": {
      "text/plain": [
       "ID               42\n",
       "First Name    Karen\n",
       "Name: row1, dtype: object"
      ]
     },
     "execution_count": 21,
     "metadata": {},
     "output_type": "execute_result"
    }
   ],
   "source": [
    "df.iloc[1]"
   ]
  },
  {
   "cell_type": "markdown",
   "metadata": {},
   "source": [
    "## Importing and exporting data"
   ]
  },
  {
   "cell_type": "markdown",
   "metadata": {},
   "source": [
    "### Read csv files"
   ]
  },
  {
   "cell_type": "markdown",
   "metadata": {},
   "source": [
    "File can be zipped"
   ]
  },
  {
   "cell_type": "code",
   "execution_count": 22,
   "metadata": {},
   "outputs": [],
   "source": [
    "green = pd.read_csv('data/green_tripdata_2014-04.csv.gz', \n",
    "        parse_dates=['lpep_pickup_datetime', 'Lpep_dropoff_datetime'], \n",
    "                    nrows=2000, index_col='VendorID', \n",
    "        dtype={'RateCodeID':'str', 'Trip_type': 'str'}\n",
    "                   )"
   ]
  },
  {
   "cell_type": "markdown",
   "metadata": {},
   "source": [
    "We read only 2,000 rows as expected"
   ]
  },
  {
   "cell_type": "code",
   "execution_count": 23,
   "metadata": {},
   "outputs": [
    {
     "data": {
      "text/plain": [
       "(2000, 21)"
      ]
     },
     "execution_count": 23,
     "metadata": {},
     "output_type": "execute_result"
    }
   ],
   "source": [
    "green.shape"
   ]
  },
  {
   "cell_type": "markdown",
   "metadata": {},
   "source": [
    "And used the right dtypes for each column"
   ]
  },
  {
   "cell_type": "code",
   "execution_count": 24,
   "metadata": {},
   "outputs": [
    {
     "name": "stdout",
     "output_type": "stream",
     "text": [
      "<class 'pandas.core.frame.DataFrame'>\n",
      "Index: 2000 entries, 2 to 2\n",
      "Data columns (total 21 columns):\n",
      " #   Column                 Non-Null Count  Dtype         \n",
      "---  ------                 --------------  -----         \n",
      " 0   lpep_pickup_datetime   2000 non-null   datetime64[ns]\n",
      " 1   Lpep_dropoff_datetime  2000 non-null   datetime64[ns]\n",
      " 2   Store_and_fwd_flag     2000 non-null   object        \n",
      " 3   RateCodeID             2000 non-null   object        \n",
      " 4   Pickup_longitude       2000 non-null   float64       \n",
      " 5   Pickup_latitude        2000 non-null   float64       \n",
      " 6   Dropoff_longitude      2000 non-null   float64       \n",
      " 7   Dropoff_latitude       2000 non-null   float64       \n",
      " 8   Passenger_count        2000 non-null   int64         \n",
      " 9   Trip_distance          2000 non-null   float64       \n",
      " 10  Fare_amount            2000 non-null   float64       \n",
      " 11  Extra                  2000 non-null   float64       \n",
      " 12  MTA_tax                2000 non-null   float64       \n",
      " 13  Tip_amount             2000 non-null   float64       \n",
      " 14  Tolls_amount           2000 non-null   float64       \n",
      " 15  Ehail_fee              0 non-null      float64       \n",
      " 16  Total_amount           2000 non-null   float64       \n",
      " 17  Payment_type           2000 non-null   int64         \n",
      " 18  Trip_type              1590 non-null   object        \n",
      " 19  Unnamed: 20            0 non-null      float64       \n",
      " 20                         0 non-null      float64       \n",
      "dtypes: datetime64[ns](2), float64(14), int64(2), object(3)\n",
      "memory usage: 343.8+ KB\n"
     ]
    }
   ],
   "source": [
    "green.info()"
   ]
  },
  {
   "cell_type": "markdown",
   "metadata": {},
   "source": [
    "### Web pages"
   ]
  },
  {
   "cell_type": "markdown",
   "metadata": {},
   "source": [
    "We're going to use the Wikipedia page with the current numbers of cases for CoVID-19"
   ]
  },
  {
   "cell_type": "code",
   "execution_count": 26,
   "metadata": {},
   "outputs": [],
   "source": [
    "url = 'https://en.wikipedia.org/wiki/COVID-19_pandemic_by_country_and_territory'"
   ]
  },
  {
   "cell_type": "markdown",
   "metadata": {},
   "source": [
    "All we have to do is to provide the url"
   ]
  },
  {
   "cell_type": "code",
   "execution_count": 27,
   "metadata": {},
   "outputs": [],
   "source": [
    "dfs = pd.read_html(url)"
   ]
  },
  {
   "cell_type": "markdown",
   "metadata": {},
   "source": [
    "Which retrieves all the tables in the page, in the order they appear"
   ]
  },
  {
   "cell_type": "code",
   "execution_count": 28,
   "metadata": {},
   "outputs": [
    {
     "data": {
      "text/plain": [
       "69"
      ]
     },
     "execution_count": 28,
     "metadata": {},
     "output_type": "execute_result"
    }
   ],
   "source": [
    "len(dfs)"
   ]
  },
  {
   "cell_type": "markdown",
   "metadata": {},
   "source": [
    "So the first one is the infobox on the top right hand corner"
   ]
  },
  {
   "cell_type": "code",
   "execution_count": 29,
   "metadata": {},
   "outputs": [
    {
     "data": {
      "text/html": [
       "<div>\n",
       "<style scoped>\n",
       "    .dataframe tbody tr th:only-of-type {\n",
       "        vertical-align: middle;\n",
       "    }\n",
       "\n",
       "    .dataframe tbody tr th {\n",
       "        vertical-align: top;\n",
       "    }\n",
       "\n",
       "    .dataframe thead th {\n",
       "        text-align: right;\n",
       "    }\n",
       "</style>\n",
       "<table border=\"1\" class=\"dataframe\">\n",
       "  <thead>\n",
       "    <tr style=\"text-align: right;\">\n",
       "      <th></th>\n",
       "      <th>COVID-19 pandemic</th>\n",
       "      <th>COVID-19 pandemic.1</th>\n",
       "    </tr>\n",
       "  </thead>\n",
       "  <tbody>\n",
       "    <tr>\n",
       "      <th>0</th>\n",
       "      <td>Confirmed deaths per 100,000 population,[1][no...</td>\n",
       "      <td>Confirmed deaths per 100,000 population,[1][no...</td>\n",
       "    </tr>\n",
       "    <tr>\n",
       "      <th>1</th>\n",
       "      <td>Disease</td>\n",
       "      <td>COVID-19</td>\n",
       "    </tr>\n",
       "    <tr>\n",
       "      <th>2</th>\n",
       "      <td>Virus strain</td>\n",
       "      <td>SARS-CoV-2</td>\n",
       "    </tr>\n",
       "    <tr>\n",
       "      <th>3</th>\n",
       "      <td>Source</td>\n",
       "      <td>Probably bats, possibly via pangolins[2][3][4]</td>\n",
       "    </tr>\n",
       "    <tr>\n",
       "      <th>4</th>\n",
       "      <td>Location</td>\n",
       "      <td>Worldwide</td>\n",
       "    </tr>\n",
       "    <tr>\n",
       "      <th>5</th>\n",
       "      <td>First outbreak</td>\n",
       "      <td>China[5]</td>\n",
       "    </tr>\n",
       "    <tr>\n",
       "      <th>6</th>\n",
       "      <td>Index case</td>\n",
       "      <td>Wuhan, Hubei, China 30°37′11″N 114°15′28″E﻿ / ...</td>\n",
       "    </tr>\n",
       "    <tr>\n",
       "      <th>7</th>\n",
       "      <td>Date</td>\n",
       "      <td>First case of COVID-19: 17 November 2019 Publi...</td>\n",
       "    </tr>\n",
       "    <tr>\n",
       "      <th>8</th>\n",
       "      <td>Confirmed cases</td>\n",
       "      <td>775,730,930[6]</td>\n",
       "    </tr>\n",
       "    <tr>\n",
       "      <th>9</th>\n",
       "      <td>Deaths</td>\n",
       "      <td>7,054,878[6]</td>\n",
       "    </tr>\n",
       "    <tr>\n",
       "      <th>10</th>\n",
       "      <td>Vaccinations</td>\n",
       "      <td>5,631,263,642[6] (total vaccinated)5,177,942,8...</td>\n",
       "    </tr>\n",
       "  </tbody>\n",
       "</table>\n",
       "</div>"
      ],
      "text/plain": [
       "                                    COVID-19 pandemic  \\\n",
       "0   Confirmed deaths per 100,000 population,[1][no...   \n",
       "1                                             Disease   \n",
       "2                                        Virus strain   \n",
       "3                                              Source   \n",
       "4                                            Location   \n",
       "5                                      First outbreak   \n",
       "6                                          Index case   \n",
       "7                                                Date   \n",
       "8                                     Confirmed cases   \n",
       "9                                              Deaths   \n",
       "10                                       Vaccinations   \n",
       "\n",
       "                                  COVID-19 pandemic.1  \n",
       "0   Confirmed deaths per 100,000 population,[1][no...  \n",
       "1                                            COVID-19  \n",
       "2                                          SARS-CoV-2  \n",
       "3      Probably bats, possibly via pangolins[2][3][4]  \n",
       "4                                           Worldwide  \n",
       "5                                            China[5]  \n",
       "6   Wuhan, Hubei, China 30°37′11″N 114°15′28″E﻿ / ...  \n",
       "7   First case of COVID-19: 17 November 2019 Publi...  \n",
       "8                                      775,730,930[6]  \n",
       "9                                        7,054,878[6]  \n",
       "10  5,631,263,642[6] (total vaccinated)5,177,942,8...  "
      ]
     },
     "execution_count": 29,
     "metadata": {},
     "output_type": "execute_result"
    }
   ],
   "source": [
    "dfs[0]"
   ]
  },
  {
   "cell_type": "markdown",
   "metadata": {},
   "source": [
    "And the sixteenth one is the number of cases and deaths per country"
   ]
  },
  {
   "cell_type": "code",
   "execution_count": 30,
   "metadata": {},
   "outputs": [
    {
     "data": {
      "text/html": [
       "<div>\n",
       "<style scoped>\n",
       "    .dataframe tbody tr th:only-of-type {\n",
       "        vertical-align: middle;\n",
       "    }\n",
       "\n",
       "    .dataframe tbody tr th {\n",
       "        vertical-align: top;\n",
       "    }\n",
       "\n",
       "    .dataframe thead th {\n",
       "        text-align: right;\n",
       "    }\n",
       "</style>\n",
       "<table border=\"1\" class=\"dataframe\">\n",
       "  <thead>\n",
       "    <tr style=\"text-align: right;\">\n",
       "      <th></th>\n",
       "      <th>Region[30]</th>\n",
       "      <th>Total cases</th>\n",
       "      <th>Total deaths</th>\n",
       "      <th>Cases per million</th>\n",
       "      <th>Deaths per million</th>\n",
       "      <th>Current weekly cases</th>\n",
       "      <th>Current weekly deaths</th>\n",
       "      <th>Population millions</th>\n",
       "      <th>Vacci­nated %[31]</th>\n",
       "    </tr>\n",
       "  </thead>\n",
       "  <tbody>\n",
       "    <tr>\n",
       "      <th>0</th>\n",
       "      <td>European Union</td>\n",
       "      <td>179537758</td>\n",
       "      <td>1185108</td>\n",
       "      <td>401363</td>\n",
       "      <td>2649</td>\n",
       "      <td>886074</td>\n",
       "      <td>3985</td>\n",
       "      <td>447</td>\n",
       "      <td>75.1</td>\n",
       "    </tr>\n",
       "    <tr>\n",
       "      <th>1</th>\n",
       "      <td>North America</td>\n",
       "      <td>103783777</td>\n",
       "      <td>1133607</td>\n",
       "      <td>281404</td>\n",
       "      <td>3074</td>\n",
       "      <td>476376</td>\n",
       "      <td>2975</td>\n",
       "      <td>369</td>\n",
       "      <td>76.1</td>\n",
       "    </tr>\n",
       "    <tr>\n",
       "      <th>2</th>\n",
       "      <td>Other Europe</td>\n",
       "      <td>57721948</td>\n",
       "      <td>498259</td>\n",
       "      <td>247054</td>\n",
       "      <td>2133</td>\n",
       "      <td>74354</td>\n",
       "      <td>248</td>\n",
       "      <td>234</td>\n",
       "      <td>61.2</td>\n",
       "    </tr>\n",
       "    <tr>\n",
       "      <th>3</th>\n",
       "      <td>South America</td>\n",
       "      <td>65835789</td>\n",
       "      <td>1313061</td>\n",
       "      <td>153151</td>\n",
       "      <td>3055</td>\n",
       "      <td>378622</td>\n",
       "      <td>1252</td>\n",
       "      <td>430</td>\n",
       "      <td>81.7</td>\n",
       "    </tr>\n",
       "    <tr>\n",
       "      <th>4</th>\n",
       "      <td>Russia and Central Asia</td>\n",
       "      <td>25646533</td>\n",
       "      <td>434988</td>\n",
       "      <td>108307</td>\n",
       "      <td>1837</td>\n",
       "      <td>49022</td>\n",
       "      <td>393</td>\n",
       "      <td>237</td>\n",
       "      <td>55.9</td>\n",
       "    </tr>\n",
       "  </tbody>\n",
       "</table>\n",
       "</div>"
      ],
      "text/plain": [
       "                Region[30]  Total cases  Total deaths  Cases per million  \\\n",
       "0           European Union    179537758       1185108             401363   \n",
       "1            North America    103783777       1133607             281404   \n",
       "2             Other Europe     57721948        498259             247054   \n",
       "3            South America     65835789       1313061             153151   \n",
       "4  Russia and Central Asia     25646533        434988             108307   \n",
       "\n",
       "   Deaths per million  Current weekly cases  Current weekly deaths  \\\n",
       "0                2649                886074                   3985   \n",
       "1                3074                476376                   2975   \n",
       "2                2133                 74354                    248   \n",
       "3                3055                378622                   1252   \n",
       "4                1837                 49022                    393   \n",
       "\n",
       "   Population millions  Vacci­nated %[31]  \n",
       "0                  447               75.1  \n",
       "1                  369               76.1  \n",
       "2                  234               61.2  \n",
       "3                  430               81.7  \n",
       "4                  237               55.9  "
      ]
     },
     "execution_count": 30,
     "metadata": {},
     "output_type": "execute_result"
    }
   ],
   "source": [
    "dfs[15].head()"
   ]
  },
  {
   "cell_type": "markdown",
   "metadata": {},
   "source": [
    "Due to the formatting of the table, pandas interpreted the first two rows to be the headers. We can fix this by explicitly telling it to just use the first row for the column headers"
   ]
  },
  {
   "cell_type": "code",
   "execution_count": 31,
   "metadata": {},
   "outputs": [],
   "source": [
    "dfs = pd.read_html(url, header=0)"
   ]
  },
  {
   "cell_type": "code",
   "execution_count": 32,
   "metadata": {},
   "outputs": [
    {
     "data": {
      "text/html": [
       "<div>\n",
       "<style scoped>\n",
       "    .dataframe tbody tr th:only-of-type {\n",
       "        vertical-align: middle;\n",
       "    }\n",
       "\n",
       "    .dataframe tbody tr th {\n",
       "        vertical-align: top;\n",
       "    }\n",
       "\n",
       "    .dataframe thead th {\n",
       "        text-align: right;\n",
       "    }\n",
       "</style>\n",
       "<table border=\"1\" class=\"dataframe\">\n",
       "  <thead>\n",
       "    <tr style=\"text-align: right;\">\n",
       "      <th></th>\n",
       "      <th>Region[30]</th>\n",
       "      <th>Total cases</th>\n",
       "      <th>Total deaths</th>\n",
       "      <th>Cases per million</th>\n",
       "      <th>Deaths per million</th>\n",
       "      <th>Current weekly cases</th>\n",
       "      <th>Current weekly deaths</th>\n",
       "      <th>Population millions</th>\n",
       "      <th>Vacci­nated %[31]</th>\n",
       "    </tr>\n",
       "  </thead>\n",
       "  <tbody>\n",
       "    <tr>\n",
       "      <th>0</th>\n",
       "      <td>European Union</td>\n",
       "      <td>179537758</td>\n",
       "      <td>1185108</td>\n",
       "      <td>401363</td>\n",
       "      <td>2649</td>\n",
       "      <td>886074</td>\n",
       "      <td>3985</td>\n",
       "      <td>447</td>\n",
       "      <td>75.1</td>\n",
       "    </tr>\n",
       "    <tr>\n",
       "      <th>1</th>\n",
       "      <td>North America</td>\n",
       "      <td>103783777</td>\n",
       "      <td>1133607</td>\n",
       "      <td>281404</td>\n",
       "      <td>3074</td>\n",
       "      <td>476376</td>\n",
       "      <td>2975</td>\n",
       "      <td>369</td>\n",
       "      <td>76.1</td>\n",
       "    </tr>\n",
       "    <tr>\n",
       "      <th>2</th>\n",
       "      <td>Other Europe</td>\n",
       "      <td>57721948</td>\n",
       "      <td>498259</td>\n",
       "      <td>247054</td>\n",
       "      <td>2133</td>\n",
       "      <td>74354</td>\n",
       "      <td>248</td>\n",
       "      <td>234</td>\n",
       "      <td>61.2</td>\n",
       "    </tr>\n",
       "    <tr>\n",
       "      <th>3</th>\n",
       "      <td>South America</td>\n",
       "      <td>65835789</td>\n",
       "      <td>1313061</td>\n",
       "      <td>153151</td>\n",
       "      <td>3055</td>\n",
       "      <td>378622</td>\n",
       "      <td>1252</td>\n",
       "      <td>430</td>\n",
       "      <td>81.7</td>\n",
       "    </tr>\n",
       "    <tr>\n",
       "      <th>4</th>\n",
       "      <td>Russia and Central Asia</td>\n",
       "      <td>25646533</td>\n",
       "      <td>434988</td>\n",
       "      <td>108307</td>\n",
       "      <td>1837</td>\n",
       "      <td>49022</td>\n",
       "      <td>393</td>\n",
       "      <td>237</td>\n",
       "      <td>55.9</td>\n",
       "    </tr>\n",
       "    <tr>\n",
       "      <th>5</th>\n",
       "      <td>Central America</td>\n",
       "      <td>11338600</td>\n",
       "      <td>380660</td>\n",
       "      <td>63108</td>\n",
       "      <td>2119</td>\n",
       "      <td>60268</td>\n",
       "      <td>263</td>\n",
       "      <td>180</td>\n",
       "      <td>69.0</td>\n",
       "    </tr>\n",
       "    <tr>\n",
       "      <th>6</th>\n",
       "      <td>Middle East</td>\n",
       "      <td>22549784</td>\n",
       "      <td>238106</td>\n",
       "      <td>86400</td>\n",
       "      <td>912</td>\n",
       "      <td>13457</td>\n",
       "      <td>65</td>\n",
       "      <td>261</td>\n",
       "      <td>51.9</td>\n",
       "    </tr>\n",
       "    <tr>\n",
       "      <th>7</th>\n",
       "      <td>Oceania and islands in East Asia</td>\n",
       "      <td>60806544</td>\n",
       "      <td>318455</td>\n",
       "      <td>105317</td>\n",
       "      <td>552</td>\n",
       "      <td>1390401</td>\n",
       "      <td>2777</td>\n",
       "      <td>577</td>\n",
       "      <td>72.1</td>\n",
       "    </tr>\n",
       "    <tr>\n",
       "      <th>8</th>\n",
       "      <td>Caribbean</td>\n",
       "      <td>2605473</td>\n",
       "      <td>26237</td>\n",
       "      <td>60179</td>\n",
       "      <td>606</td>\n",
       "      <td>737</td>\n",
       "      <td>25</td>\n",
       "      <td>43</td>\n",
       "      <td>46.4</td>\n",
       "    </tr>\n",
       "    <tr>\n",
       "      <th>9</th>\n",
       "      <td>South Asia</td>\n",
       "      <td>50347136</td>\n",
       "      <td>620218</td>\n",
       "      <td>27121</td>\n",
       "      <td>334</td>\n",
       "      <td>1911</td>\n",
       "      <td>24</td>\n",
       "      <td>1856</td>\n",
       "      <td>69.4</td>\n",
       "    </tr>\n",
       "    <tr>\n",
       "      <th>10</th>\n",
       "      <td>North Africa</td>\n",
       "      <td>3727346</td>\n",
       "      <td>83873</td>\n",
       "      <td>18382</td>\n",
       "      <td>414</td>\n",
       "      <td>668</td>\n",
       "      <td>8</td>\n",
       "      <td>203</td>\n",
       "      <td>41.3</td>\n",
       "    </tr>\n",
       "    <tr>\n",
       "      <th>11</th>\n",
       "      <td>East Asia</td>\n",
       "      <td>57867768</td>\n",
       "      <td>189910</td>\n",
       "      <td>32416</td>\n",
       "      <td>106</td>\n",
       "      <td>644079</td>\n",
       "      <td>818</td>\n",
       "      <td>1785</td>\n",
       "      <td>87.2</td>\n",
       "    </tr>\n",
       "    <tr>\n",
       "      <th>12</th>\n",
       "      <td>Sub-Saharan Africa</td>\n",
       "      <td>8636456</td>\n",
       "      <td>172907</td>\n",
       "      <td>7598</td>\n",
       "      <td>152</td>\n",
       "      <td>6960</td>\n",
       "      <td>27</td>\n",
       "      <td>1137</td>\n",
       "      <td>27.6</td>\n",
       "    </tr>\n",
       "    <tr>\n",
       "      <th>13</th>\n",
       "      <td>Totals (or average)</td>\n",
       "      <td>650404912</td>\n",
       "      <td>6595389</td>\n",
       "      <td>83826</td>\n",
       "      <td>850</td>\n",
       "      <td>3982929</td>\n",
       "      <td>12860</td>\n",
       "      <td>7759</td>\n",
       "      <td>67.0</td>\n",
       "    </tr>\n",
       "  </tbody>\n",
       "</table>\n",
       "</div>"
      ],
      "text/plain": [
       "                          Region[30]  Total cases  Total deaths  \\\n",
       "0                     European Union    179537758       1185108   \n",
       "1                      North America    103783777       1133607   \n",
       "2                       Other Europe     57721948        498259   \n",
       "3                      South America     65835789       1313061   \n",
       "4            Russia and Central Asia     25646533        434988   \n",
       "5                    Central America     11338600        380660   \n",
       "6                        Middle East     22549784        238106   \n",
       "7   Oceania and islands in East Asia     60806544        318455   \n",
       "8                          Caribbean      2605473         26237   \n",
       "9                         South Asia     50347136        620218   \n",
       "10                      North Africa      3727346         83873   \n",
       "11                         East Asia     57867768        189910   \n",
       "12                Sub-Saharan Africa      8636456        172907   \n",
       "13               Totals (or average)    650404912       6595389   \n",
       "\n",
       "    Cases per million  Deaths per million  Current weekly cases  \\\n",
       "0              401363                2649                886074   \n",
       "1              281404                3074                476376   \n",
       "2              247054                2133                 74354   \n",
       "3              153151                3055                378622   \n",
       "4              108307                1837                 49022   \n",
       "5               63108                2119                 60268   \n",
       "6               86400                 912                 13457   \n",
       "7              105317                 552               1390401   \n",
       "8               60179                 606                   737   \n",
       "9               27121                 334                  1911   \n",
       "10              18382                 414                   668   \n",
       "11              32416                 106                644079   \n",
       "12               7598                 152                  6960   \n",
       "13              83826                 850               3982929   \n",
       "\n",
       "    Current weekly deaths  Population millions  Vacci­nated %[31]  \n",
       "0                    3985                  447               75.1  \n",
       "1                    2975                  369               76.1  \n",
       "2                     248                  234               61.2  \n",
       "3                    1252                  430               81.7  \n",
       "4                     393                  237               55.9  \n",
       "5                     263                  180               69.0  \n",
       "6                      65                  261               51.9  \n",
       "7                    2777                  577               72.1  \n",
       "8                      25                   43               46.4  \n",
       "9                      24                 1856               69.4  \n",
       "10                      8                  203               41.3  \n",
       "11                    818                 1785               87.2  \n",
       "12                     27                 1137               27.6  \n",
       "13                  12860                 7759               67.0  "
      ]
     },
     "execution_count": 32,
     "metadata": {},
     "output_type": "execute_result"
    }
   ],
   "source": [
    "dfs[15]"
   ]
  },
  {
   "cell_type": "markdown",
   "metadata": {},
   "source": [
    "## Subsetting"
   ]
  },
  {
   "cell_type": "markdown",
   "metadata": {},
   "source": [
    "The top/bottom N number of values are easy to access"
   ]
  },
  {
   "cell_type": "code",
   "execution_count": 31,
   "metadata": {},
   "outputs": [
    {
     "data": {
      "text/html": [
       "<div>\n",
       "<style scoped>\n",
       "    .dataframe tbody tr th:only-of-type {\n",
       "        vertical-align: middle;\n",
       "    }\n",
       "\n",
       "    .dataframe tbody tr th {\n",
       "        vertical-align: top;\n",
       "    }\n",
       "\n",
       "    .dataframe thead th {\n",
       "        text-align: right;\n",
       "    }\n",
       "</style>\n",
       "<table border=\"1\" class=\"dataframe\">\n",
       "  <thead>\n",
       "    <tr style=\"text-align: right;\">\n",
       "      <th></th>\n",
       "      <th>lpep_pickup_datetime</th>\n",
       "      <th>Lpep_dropoff_datetime</th>\n",
       "      <th>Store_and_fwd_flag</th>\n",
       "      <th>RateCodeID</th>\n",
       "      <th>Pickup_longitude</th>\n",
       "      <th>Pickup_latitude</th>\n",
       "      <th>Dropoff_longitude</th>\n",
       "      <th>Dropoff_latitude</th>\n",
       "      <th>Passenger_count</th>\n",
       "      <th>Trip_distance</th>\n",
       "      <th>...</th>\n",
       "      <th>Extra</th>\n",
       "      <th>MTA_tax</th>\n",
       "      <th>Tip_amount</th>\n",
       "      <th>Tolls_amount</th>\n",
       "      <th>Ehail_fee</th>\n",
       "      <th>Total_amount</th>\n",
       "      <th>Payment_type</th>\n",
       "      <th>Trip_type</th>\n",
       "      <th>Unnamed: 20</th>\n",
       "      <th></th>\n",
       "    </tr>\n",
       "    <tr>\n",
       "      <th>VendorID</th>\n",
       "      <th></th>\n",
       "      <th></th>\n",
       "      <th></th>\n",
       "      <th></th>\n",
       "      <th></th>\n",
       "      <th></th>\n",
       "      <th></th>\n",
       "      <th></th>\n",
       "      <th></th>\n",
       "      <th></th>\n",
       "      <th></th>\n",
       "      <th></th>\n",
       "      <th></th>\n",
       "      <th></th>\n",
       "      <th></th>\n",
       "      <th></th>\n",
       "      <th></th>\n",
       "      <th></th>\n",
       "      <th></th>\n",
       "      <th></th>\n",
       "      <th></th>\n",
       "    </tr>\n",
       "  </thead>\n",
       "  <tbody>\n",
       "    <tr>\n",
       "      <th>2</th>\n",
       "      <td>2014-04-01</td>\n",
       "      <td>2014-04-01 14:24:20</td>\n",
       "      <td>N</td>\n",
       "      <td>1</td>\n",
       "      <td>0.0</td>\n",
       "      <td>0.0</td>\n",
       "      <td>0.000000</td>\n",
       "      <td>0.000000</td>\n",
       "      <td>1</td>\n",
       "      <td>7.45</td>\n",
       "      <td>...</td>\n",
       "      <td>0.0</td>\n",
       "      <td>0.5</td>\n",
       "      <td>0.0</td>\n",
       "      <td>0.0</td>\n",
       "      <td>NaN</td>\n",
       "      <td>23.5</td>\n",
       "      <td>2</td>\n",
       "      <td>1</td>\n",
       "      <td>NaN</td>\n",
       "      <td>NaN</td>\n",
       "    </tr>\n",
       "    <tr>\n",
       "      <th>2</th>\n",
       "      <td>2014-04-01</td>\n",
       "      <td>2014-04-01 17:21:33</td>\n",
       "      <td>N</td>\n",
       "      <td>1</td>\n",
       "      <td>0.0</td>\n",
       "      <td>0.0</td>\n",
       "      <td>-73.987663</td>\n",
       "      <td>40.780872</td>\n",
       "      <td>1</td>\n",
       "      <td>8.95</td>\n",
       "      <td>...</td>\n",
       "      <td>1.0</td>\n",
       "      <td>0.5</td>\n",
       "      <td>0.0</td>\n",
       "      <td>0.0</td>\n",
       "      <td>NaN</td>\n",
       "      <td>32.5</td>\n",
       "      <td>2</td>\n",
       "      <td>1</td>\n",
       "      <td>NaN</td>\n",
       "      <td>NaN</td>\n",
       "    </tr>\n",
       "    <tr>\n",
       "      <th>2</th>\n",
       "      <td>2014-04-01</td>\n",
       "      <td>2014-04-01 15:06:18</td>\n",
       "      <td>N</td>\n",
       "      <td>1</td>\n",
       "      <td>0.0</td>\n",
       "      <td>0.0</td>\n",
       "      <td>-73.946922</td>\n",
       "      <td>40.831764</td>\n",
       "      <td>1</td>\n",
       "      <td>1.32</td>\n",
       "      <td>...</td>\n",
       "      <td>0.0</td>\n",
       "      <td>0.5</td>\n",
       "      <td>0.0</td>\n",
       "      <td>0.0</td>\n",
       "      <td>NaN</td>\n",
       "      <td>7.0</td>\n",
       "      <td>2</td>\n",
       "      <td>1</td>\n",
       "      <td>NaN</td>\n",
       "      <td>NaN</td>\n",
       "    </tr>\n",
       "    <tr>\n",
       "      <th>2</th>\n",
       "      <td>2014-04-01</td>\n",
       "      <td>2014-04-01 08:09:27</td>\n",
       "      <td>N</td>\n",
       "      <td>1</td>\n",
       "      <td>0.0</td>\n",
       "      <td>0.0</td>\n",
       "      <td>-73.947670</td>\n",
       "      <td>40.808651</td>\n",
       "      <td>5</td>\n",
       "      <td>0.10</td>\n",
       "      <td>...</td>\n",
       "      <td>0.0</td>\n",
       "      <td>0.5</td>\n",
       "      <td>0.0</td>\n",
       "      <td>0.0</td>\n",
       "      <td>NaN</td>\n",
       "      <td>3.5</td>\n",
       "      <td>2</td>\n",
       "      <td>1</td>\n",
       "      <td>NaN</td>\n",
       "      <td>NaN</td>\n",
       "    </tr>\n",
       "    <tr>\n",
       "      <th>2</th>\n",
       "      <td>2014-04-01</td>\n",
       "      <td>2014-04-01 16:15:13</td>\n",
       "      <td>N</td>\n",
       "      <td>1</td>\n",
       "      <td>0.0</td>\n",
       "      <td>0.0</td>\n",
       "      <td>0.000000</td>\n",
       "      <td>0.000000</td>\n",
       "      <td>1</td>\n",
       "      <td>7.09</td>\n",
       "      <td>...</td>\n",
       "      <td>0.0</td>\n",
       "      <td>0.5</td>\n",
       "      <td>4.7</td>\n",
       "      <td>0.0</td>\n",
       "      <td>NaN</td>\n",
       "      <td>28.7</td>\n",
       "      <td>1</td>\n",
       "      <td>1</td>\n",
       "      <td>NaN</td>\n",
       "      <td>NaN</td>\n",
       "    </tr>\n",
       "    <tr>\n",
       "      <th>2</th>\n",
       "      <td>2014-04-01</td>\n",
       "      <td>2014-04-01 16:31:57</td>\n",
       "      <td>N</td>\n",
       "      <td>1</td>\n",
       "      <td>0.0</td>\n",
       "      <td>0.0</td>\n",
       "      <td>-73.950539</td>\n",
       "      <td>40.786633</td>\n",
       "      <td>1</td>\n",
       "      <td>5.20</td>\n",
       "      <td>...</td>\n",
       "      <td>0.0</td>\n",
       "      <td>0.5</td>\n",
       "      <td>0.0</td>\n",
       "      <td>0.0</td>\n",
       "      <td>NaN</td>\n",
       "      <td>17.5</td>\n",
       "      <td>2</td>\n",
       "      <td>1</td>\n",
       "      <td>NaN</td>\n",
       "      <td>NaN</td>\n",
       "    </tr>\n",
       "    <tr>\n",
       "      <th>2</th>\n",
       "      <td>2014-04-01</td>\n",
       "      <td>2014-04-01 10:59:14</td>\n",
       "      <td>N</td>\n",
       "      <td>1</td>\n",
       "      <td>0.0</td>\n",
       "      <td>0.0</td>\n",
       "      <td>0.000000</td>\n",
       "      <td>0.000000</td>\n",
       "      <td>1</td>\n",
       "      <td>8.96</td>\n",
       "      <td>...</td>\n",
       "      <td>0.0</td>\n",
       "      <td>0.5</td>\n",
       "      <td>4.0</td>\n",
       "      <td>0.0</td>\n",
       "      <td>NaN</td>\n",
       "      <td>43.0</td>\n",
       "      <td>1</td>\n",
       "      <td>1</td>\n",
       "      <td>NaN</td>\n",
       "      <td>NaN</td>\n",
       "    </tr>\n",
       "    <tr>\n",
       "      <th>2</th>\n",
       "      <td>2014-04-01</td>\n",
       "      <td>2014-04-01 05:23:51</td>\n",
       "      <td>N</td>\n",
       "      <td>1</td>\n",
       "      <td>0.0</td>\n",
       "      <td>0.0</td>\n",
       "      <td>-73.885551</td>\n",
       "      <td>40.655041</td>\n",
       "      <td>5</td>\n",
       "      <td>4.73</td>\n",
       "      <td>...</td>\n",
       "      <td>0.5</td>\n",
       "      <td>0.5</td>\n",
       "      <td>0.0</td>\n",
       "      <td>0.0</td>\n",
       "      <td>NaN</td>\n",
       "      <td>17.5</td>\n",
       "      <td>2</td>\n",
       "      <td>1</td>\n",
       "      <td>NaN</td>\n",
       "      <td>NaN</td>\n",
       "    </tr>\n",
       "    <tr>\n",
       "      <th>2</th>\n",
       "      <td>2014-04-01</td>\n",
       "      <td>2014-04-01 16:58:33</td>\n",
       "      <td>N</td>\n",
       "      <td>1</td>\n",
       "      <td>0.0</td>\n",
       "      <td>0.0</td>\n",
       "      <td>-73.891830</td>\n",
       "      <td>40.826359</td>\n",
       "      <td>1</td>\n",
       "      <td>0.19</td>\n",
       "      <td>...</td>\n",
       "      <td>0.0</td>\n",
       "      <td>0.5</td>\n",
       "      <td>0.0</td>\n",
       "      <td>0.0</td>\n",
       "      <td>NaN</td>\n",
       "      <td>3.5</td>\n",
       "      <td>2</td>\n",
       "      <td>1</td>\n",
       "      <td>NaN</td>\n",
       "      <td>NaN</td>\n",
       "    </tr>\n",
       "    <tr>\n",
       "      <th>2</th>\n",
       "      <td>2014-04-01</td>\n",
       "      <td>2014-04-01 08:10:50</td>\n",
       "      <td>N</td>\n",
       "      <td>1</td>\n",
       "      <td>0.0</td>\n",
       "      <td>0.0</td>\n",
       "      <td>-73.852058</td>\n",
       "      <td>40.840832</td>\n",
       "      <td>1</td>\n",
       "      <td>0.90</td>\n",
       "      <td>...</td>\n",
       "      <td>0.0</td>\n",
       "      <td>0.5</td>\n",
       "      <td>0.0</td>\n",
       "      <td>0.0</td>\n",
       "      <td>NaN</td>\n",
       "      <td>5.5</td>\n",
       "      <td>2</td>\n",
       "      <td>1</td>\n",
       "      <td>NaN</td>\n",
       "      <td>NaN</td>\n",
       "    </tr>\n",
       "  </tbody>\n",
       "</table>\n",
       "<p>10 rows × 21 columns</p>\n",
       "</div>"
      ],
      "text/plain": [
       "         lpep_pickup_datetime Lpep_dropoff_datetime Store_and_fwd_flag  \\\n",
       "VendorID                                                                 \n",
       "2                  2014-04-01   2014-04-01 14:24:20                  N   \n",
       "2                  2014-04-01   2014-04-01 17:21:33                  N   \n",
       "2                  2014-04-01   2014-04-01 15:06:18                  N   \n",
       "2                  2014-04-01   2014-04-01 08:09:27                  N   \n",
       "2                  2014-04-01   2014-04-01 16:15:13                  N   \n",
       "2                  2014-04-01   2014-04-01 16:31:57                  N   \n",
       "2                  2014-04-01   2014-04-01 10:59:14                  N   \n",
       "2                  2014-04-01   2014-04-01 05:23:51                  N   \n",
       "2                  2014-04-01   2014-04-01 16:58:33                  N   \n",
       "2                  2014-04-01   2014-04-01 08:10:50                  N   \n",
       "\n",
       "         RateCodeID  Pickup_longitude  Pickup_latitude  Dropoff_longitude  \\\n",
       "VendorID                                                                    \n",
       "2                 1               0.0              0.0           0.000000   \n",
       "2                 1               0.0              0.0         -73.987663   \n",
       "2                 1               0.0              0.0         -73.946922   \n",
       "2                 1               0.0              0.0         -73.947670   \n",
       "2                 1               0.0              0.0           0.000000   \n",
       "2                 1               0.0              0.0         -73.950539   \n",
       "2                 1               0.0              0.0           0.000000   \n",
       "2                 1               0.0              0.0         -73.885551   \n",
       "2                 1               0.0              0.0         -73.891830   \n",
       "2                 1               0.0              0.0         -73.852058   \n",
       "\n",
       "          Dropoff_latitude  Passenger_count  Trip_distance  ...  Extra  \\\n",
       "VendorID                                                    ...          \n",
       "2                 0.000000                1           7.45  ...    0.0   \n",
       "2                40.780872                1           8.95  ...    1.0   \n",
       "2                40.831764                1           1.32  ...    0.0   \n",
       "2                40.808651                5           0.10  ...    0.0   \n",
       "2                 0.000000                1           7.09  ...    0.0   \n",
       "2                40.786633                1           5.20  ...    0.0   \n",
       "2                 0.000000                1           8.96  ...    0.0   \n",
       "2                40.655041                5           4.73  ...    0.5   \n",
       "2                40.826359                1           0.19  ...    0.0   \n",
       "2                40.840832                1           0.90  ...    0.0   \n",
       "\n",
       "          MTA_tax  Tip_amount  Tolls_amount  Ehail_fee  Total_amount  \\\n",
       "VendorID                                                               \n",
       "2             0.5         0.0           0.0        NaN          23.5   \n",
       "2             0.5         0.0           0.0        NaN          32.5   \n",
       "2             0.5         0.0           0.0        NaN           7.0   \n",
       "2             0.5         0.0           0.0        NaN           3.5   \n",
       "2             0.5         4.7           0.0        NaN          28.7   \n",
       "2             0.5         0.0           0.0        NaN          17.5   \n",
       "2             0.5         4.0           0.0        NaN          43.0   \n",
       "2             0.5         0.0           0.0        NaN          17.5   \n",
       "2             0.5         0.0           0.0        NaN           3.5   \n",
       "2             0.5         0.0           0.0        NaN           5.5   \n",
       "\n",
       "          Payment_type  Trip_type Unnamed: 20      \n",
       "VendorID                                           \n",
       "2                    2          1         NaN NaN  \n",
       "2                    2          1         NaN NaN  \n",
       "2                    2          1         NaN NaN  \n",
       "2                    2          1         NaN NaN  \n",
       "2                    1          1         NaN NaN  \n",
       "2                    2          1         NaN NaN  \n",
       "2                    1          1         NaN NaN  \n",
       "2                    2          1         NaN NaN  \n",
       "2                    2          1         NaN NaN  \n",
       "2                    2          1         NaN NaN  \n",
       "\n",
       "[10 rows x 21 columns]"
      ]
     },
     "execution_count": 31,
     "metadata": {},
     "output_type": "execute_result"
    }
   ],
   "source": [
    "green.head(10)"
   ]
  },
  {
   "cell_type": "code",
   "execution_count": 33,
   "metadata": {},
   "outputs": [
    {
     "data": {
      "text/html": [
       "<div>\n",
       "<style scoped>\n",
       "    .dataframe tbody tr th:only-of-type {\n",
       "        vertical-align: middle;\n",
       "    }\n",
       "\n",
       "    .dataframe tbody tr th {\n",
       "        vertical-align: top;\n",
       "    }\n",
       "\n",
       "    .dataframe thead th {\n",
       "        text-align: right;\n",
       "    }\n",
       "</style>\n",
       "<table border=\"1\" class=\"dataframe\">\n",
       "  <thead>\n",
       "    <tr style=\"text-align: right;\">\n",
       "      <th></th>\n",
       "      <th>lpep_pickup_datetime</th>\n",
       "      <th>Lpep_dropoff_datetime</th>\n",
       "      <th>Store_and_fwd_flag</th>\n",
       "      <th>RateCodeID</th>\n",
       "      <th>Pickup_longitude</th>\n",
       "      <th>Pickup_latitude</th>\n",
       "      <th>Dropoff_longitude</th>\n",
       "      <th>Dropoff_latitude</th>\n",
       "      <th>Passenger_count</th>\n",
       "      <th>Trip_distance</th>\n",
       "      <th>...</th>\n",
       "      <th>Extra</th>\n",
       "      <th>MTA_tax</th>\n",
       "      <th>Tip_amount</th>\n",
       "      <th>Tolls_amount</th>\n",
       "      <th>Ehail_fee</th>\n",
       "      <th>Total_amount</th>\n",
       "      <th>Payment_type</th>\n",
       "      <th>Trip_type</th>\n",
       "      <th>Unnamed: 20</th>\n",
       "      <th></th>\n",
       "    </tr>\n",
       "    <tr>\n",
       "      <th>VendorID</th>\n",
       "      <th></th>\n",
       "      <th></th>\n",
       "      <th></th>\n",
       "      <th></th>\n",
       "      <th></th>\n",
       "      <th></th>\n",
       "      <th></th>\n",
       "      <th></th>\n",
       "      <th></th>\n",
       "      <th></th>\n",
       "      <th></th>\n",
       "      <th></th>\n",
       "      <th></th>\n",
       "      <th></th>\n",
       "      <th></th>\n",
       "      <th></th>\n",
       "      <th></th>\n",
       "      <th></th>\n",
       "      <th></th>\n",
       "      <th></th>\n",
       "      <th></th>\n",
       "    </tr>\n",
       "  </thead>\n",
       "  <tbody>\n",
       "    <tr>\n",
       "      <th>2</th>\n",
       "      <td>2014-04-01 02:35:37</td>\n",
       "      <td>2014-04-01 02:49:16</td>\n",
       "      <td>N</td>\n",
       "      <td>1</td>\n",
       "      <td>-73.937965</td>\n",
       "      <td>40.808022</td>\n",
       "      <td>-73.976608</td>\n",
       "      <td>40.748375</td>\n",
       "      <td>2</td>\n",
       "      <td>4.99</td>\n",
       "      <td>...</td>\n",
       "      <td>0.5</td>\n",
       "      <td>0.5</td>\n",
       "      <td>2.5</td>\n",
       "      <td>0.0</td>\n",
       "      <td>NaN</td>\n",
       "      <td>19.0</td>\n",
       "      <td>1</td>\n",
       "      <td>1</td>\n",
       "      <td>NaN</td>\n",
       "      <td>NaN</td>\n",
       "    </tr>\n",
       "    <tr>\n",
       "      <th>2</th>\n",
       "      <td>2014-04-01 02:36:00</td>\n",
       "      <td>2014-04-01 02:45:44</td>\n",
       "      <td>N</td>\n",
       "      <td>1</td>\n",
       "      <td>-73.870270</td>\n",
       "      <td>40.749130</td>\n",
       "      <td>-73.942863</td>\n",
       "      <td>40.838142</td>\n",
       "      <td>1</td>\n",
       "      <td>2.33</td>\n",
       "      <td>...</td>\n",
       "      <td>0.5</td>\n",
       "      <td>0.5</td>\n",
       "      <td>0.0</td>\n",
       "      <td>0.0</td>\n",
       "      <td>NaN</td>\n",
       "      <td>11.0</td>\n",
       "      <td>2</td>\n",
       "      <td>1</td>\n",
       "      <td>NaN</td>\n",
       "      <td>NaN</td>\n",
       "    </tr>\n",
       "  </tbody>\n",
       "</table>\n",
       "<p>2 rows × 21 columns</p>\n",
       "</div>"
      ],
      "text/plain": [
       "         lpep_pickup_datetime Lpep_dropoff_datetime Store_and_fwd_flag  \\\n",
       "VendorID                                                                 \n",
       "2         2014-04-01 02:35:37   2014-04-01 02:49:16                  N   \n",
       "2         2014-04-01 02:36:00   2014-04-01 02:45:44                  N   \n",
       "\n",
       "         RateCodeID  Pickup_longitude  Pickup_latitude  Dropoff_longitude  \\\n",
       "VendorID                                                                    \n",
       "2                 1        -73.937965        40.808022         -73.976608   \n",
       "2                 1        -73.870270        40.749130         -73.942863   \n",
       "\n",
       "          Dropoff_latitude  Passenger_count  Trip_distance  ...  Extra  \\\n",
       "VendorID                                                    ...          \n",
       "2                40.748375                2           4.99  ...    0.5   \n",
       "2                40.838142                1           2.33  ...    0.5   \n",
       "\n",
       "          MTA_tax  Tip_amount  Tolls_amount  Ehail_fee  Total_amount  \\\n",
       "VendorID                                                               \n",
       "2             0.5         2.5           0.0        NaN          19.0   \n",
       "2             0.5         0.0           0.0        NaN          11.0   \n",
       "\n",
       "          Payment_type  Trip_type Unnamed: 20      \n",
       "VendorID                                           \n",
       "2                    1          1         NaN NaN  \n",
       "2                    2          1         NaN NaN  \n",
       "\n",
       "[2 rows x 21 columns]"
      ]
     },
     "execution_count": 33,
     "metadata": {},
     "output_type": "execute_result"
    }
   ],
   "source": [
    "green.tail(2)"
   ]
  },
  {
   "cell_type": "markdown",
   "metadata": {},
   "source": [
    "And individual rows, which can be indexed by Name"
   ]
  },
  {
   "cell_type": "code",
   "execution_count": 34,
   "metadata": {},
   "outputs": [
    {
     "data": {
      "text/html": [
       "<div>\n",
       "<style scoped>\n",
       "    .dataframe tbody tr th:only-of-type {\n",
       "        vertical-align: middle;\n",
       "    }\n",
       "\n",
       "    .dataframe tbody tr th {\n",
       "        vertical-align: top;\n",
       "    }\n",
       "\n",
       "    .dataframe thead th {\n",
       "        text-align: right;\n",
       "    }\n",
       "</style>\n",
       "<table border=\"1\" class=\"dataframe\">\n",
       "  <thead>\n",
       "    <tr style=\"text-align: right;\">\n",
       "      <th></th>\n",
       "      <th>lpep_pickup_datetime</th>\n",
       "      <th>Lpep_dropoff_datetime</th>\n",
       "      <th>Store_and_fwd_flag</th>\n",
       "      <th>RateCodeID</th>\n",
       "      <th>Pickup_longitude</th>\n",
       "      <th>Pickup_latitude</th>\n",
       "      <th>Dropoff_longitude</th>\n",
       "      <th>Dropoff_latitude</th>\n",
       "      <th>Passenger_count</th>\n",
       "      <th>Trip_distance</th>\n",
       "      <th>...</th>\n",
       "      <th>Extra</th>\n",
       "      <th>MTA_tax</th>\n",
       "      <th>Tip_amount</th>\n",
       "      <th>Tolls_amount</th>\n",
       "      <th>Ehail_fee</th>\n",
       "      <th>Total_amount</th>\n",
       "      <th>Payment_type</th>\n",
       "      <th>Trip_type</th>\n",
       "      <th>Unnamed: 20</th>\n",
       "      <th></th>\n",
       "    </tr>\n",
       "    <tr>\n",
       "      <th>VendorID</th>\n",
       "      <th></th>\n",
       "      <th></th>\n",
       "      <th></th>\n",
       "      <th></th>\n",
       "      <th></th>\n",
       "      <th></th>\n",
       "      <th></th>\n",
       "      <th></th>\n",
       "      <th></th>\n",
       "      <th></th>\n",
       "      <th></th>\n",
       "      <th></th>\n",
       "      <th></th>\n",
       "      <th></th>\n",
       "      <th></th>\n",
       "      <th></th>\n",
       "      <th></th>\n",
       "      <th></th>\n",
       "      <th></th>\n",
       "      <th></th>\n",
       "      <th></th>\n",
       "    </tr>\n",
       "  </thead>\n",
       "  <tbody>\n",
       "    <tr>\n",
       "      <th>2</th>\n",
       "      <td>2014-04-01 00:00:00</td>\n",
       "      <td>2014-04-01 14:24:20</td>\n",
       "      <td>N</td>\n",
       "      <td>1</td>\n",
       "      <td>0.000000</td>\n",
       "      <td>0.000000</td>\n",
       "      <td>0.000000</td>\n",
       "      <td>0.000000</td>\n",
       "      <td>1</td>\n",
       "      <td>7.45</td>\n",
       "      <td>...</td>\n",
       "      <td>0.0</td>\n",
       "      <td>0.5</td>\n",
       "      <td>0.0</td>\n",
       "      <td>0.0</td>\n",
       "      <td>NaN</td>\n",
       "      <td>23.5</td>\n",
       "      <td>2</td>\n",
       "      <td>1</td>\n",
       "      <td>NaN</td>\n",
       "      <td>NaN</td>\n",
       "    </tr>\n",
       "    <tr>\n",
       "      <th>2</th>\n",
       "      <td>2014-04-01 00:00:00</td>\n",
       "      <td>2014-04-01 17:21:33</td>\n",
       "      <td>N</td>\n",
       "      <td>1</td>\n",
       "      <td>0.000000</td>\n",
       "      <td>0.000000</td>\n",
       "      <td>-73.987663</td>\n",
       "      <td>40.780872</td>\n",
       "      <td>1</td>\n",
       "      <td>8.95</td>\n",
       "      <td>...</td>\n",
       "      <td>1.0</td>\n",
       "      <td>0.5</td>\n",
       "      <td>0.0</td>\n",
       "      <td>0.0</td>\n",
       "      <td>NaN</td>\n",
       "      <td>32.5</td>\n",
       "      <td>2</td>\n",
       "      <td>1</td>\n",
       "      <td>NaN</td>\n",
       "      <td>NaN</td>\n",
       "    </tr>\n",
       "    <tr>\n",
       "      <th>2</th>\n",
       "      <td>2014-04-01 00:00:00</td>\n",
       "      <td>2014-04-01 15:06:18</td>\n",
       "      <td>N</td>\n",
       "      <td>1</td>\n",
       "      <td>0.000000</td>\n",
       "      <td>0.000000</td>\n",
       "      <td>-73.946922</td>\n",
       "      <td>40.831764</td>\n",
       "      <td>1</td>\n",
       "      <td>1.32</td>\n",
       "      <td>...</td>\n",
       "      <td>0.0</td>\n",
       "      <td>0.5</td>\n",
       "      <td>0.0</td>\n",
       "      <td>0.0</td>\n",
       "      <td>NaN</td>\n",
       "      <td>7.0</td>\n",
       "      <td>2</td>\n",
       "      <td>1</td>\n",
       "      <td>NaN</td>\n",
       "      <td>NaN</td>\n",
       "    </tr>\n",
       "    <tr>\n",
       "      <th>2</th>\n",
       "      <td>2014-04-01 00:00:00</td>\n",
       "      <td>2014-04-01 08:09:27</td>\n",
       "      <td>N</td>\n",
       "      <td>1</td>\n",
       "      <td>0.000000</td>\n",
       "      <td>0.000000</td>\n",
       "      <td>-73.947670</td>\n",
       "      <td>40.808651</td>\n",
       "      <td>5</td>\n",
       "      <td>0.10</td>\n",
       "      <td>...</td>\n",
       "      <td>0.0</td>\n",
       "      <td>0.5</td>\n",
       "      <td>0.0</td>\n",
       "      <td>0.0</td>\n",
       "      <td>NaN</td>\n",
       "      <td>3.5</td>\n",
       "      <td>2</td>\n",
       "      <td>1</td>\n",
       "      <td>NaN</td>\n",
       "      <td>NaN</td>\n",
       "    </tr>\n",
       "    <tr>\n",
       "      <th>2</th>\n",
       "      <td>2014-04-01 00:00:00</td>\n",
       "      <td>2014-04-01 16:15:13</td>\n",
       "      <td>N</td>\n",
       "      <td>1</td>\n",
       "      <td>0.000000</td>\n",
       "      <td>0.000000</td>\n",
       "      <td>0.000000</td>\n",
       "      <td>0.000000</td>\n",
       "      <td>1</td>\n",
       "      <td>7.09</td>\n",
       "      <td>...</td>\n",
       "      <td>0.0</td>\n",
       "      <td>0.5</td>\n",
       "      <td>4.7</td>\n",
       "      <td>0.0</td>\n",
       "      <td>NaN</td>\n",
       "      <td>28.7</td>\n",
       "      <td>1</td>\n",
       "      <td>1</td>\n",
       "      <td>NaN</td>\n",
       "      <td>NaN</td>\n",
       "    </tr>\n",
       "    <tr>\n",
       "      <th>...</th>\n",
       "      <td>...</td>\n",
       "      <td>...</td>\n",
       "      <td>...</td>\n",
       "      <td>...</td>\n",
       "      <td>...</td>\n",
       "      <td>...</td>\n",
       "      <td>...</td>\n",
       "      <td>...</td>\n",
       "      <td>...</td>\n",
       "      <td>...</td>\n",
       "      <td>...</td>\n",
       "      <td>...</td>\n",
       "      <td>...</td>\n",
       "      <td>...</td>\n",
       "      <td>...</td>\n",
       "      <td>...</td>\n",
       "      <td>...</td>\n",
       "      <td>...</td>\n",
       "      <td>...</td>\n",
       "      <td>...</td>\n",
       "      <td>...</td>\n",
       "    </tr>\n",
       "    <tr>\n",
       "      <th>2</th>\n",
       "      <td>2014-04-01 02:35:15</td>\n",
       "      <td>2014-04-01 02:40:47</td>\n",
       "      <td>N</td>\n",
       "      <td>1</td>\n",
       "      <td>-73.927505</td>\n",
       "      <td>40.810944</td>\n",
       "      <td>-73.920647</td>\n",
       "      <td>40.830791</td>\n",
       "      <td>1</td>\n",
       "      <td>1.56</td>\n",
       "      <td>...</td>\n",
       "      <td>0.5</td>\n",
       "      <td>0.5</td>\n",
       "      <td>0.0</td>\n",
       "      <td>0.0</td>\n",
       "      <td>NaN</td>\n",
       "      <td>8.0</td>\n",
       "      <td>2</td>\n",
       "      <td>1</td>\n",
       "      <td>NaN</td>\n",
       "      <td>NaN</td>\n",
       "    </tr>\n",
       "    <tr>\n",
       "      <th>2</th>\n",
       "      <td>2014-04-01 02:35:22</td>\n",
       "      <td>2014-04-01 02:47:14</td>\n",
       "      <td>N</td>\n",
       "      <td>1</td>\n",
       "      <td>-73.963692</td>\n",
       "      <td>40.676941</td>\n",
       "      <td>-73.956619</td>\n",
       "      <td>40.637798</td>\n",
       "      <td>1</td>\n",
       "      <td>3.70</td>\n",
       "      <td>...</td>\n",
       "      <td>0.5</td>\n",
       "      <td>0.5</td>\n",
       "      <td>3.5</td>\n",
       "      <td>0.0</td>\n",
       "      <td>NaN</td>\n",
       "      <td>18.0</td>\n",
       "      <td>1</td>\n",
       "      <td>1</td>\n",
       "      <td>NaN</td>\n",
       "      <td>NaN</td>\n",
       "    </tr>\n",
       "    <tr>\n",
       "      <th>2</th>\n",
       "      <td>2014-04-01 02:35:23</td>\n",
       "      <td>2014-04-01 02:43:53</td>\n",
       "      <td>N</td>\n",
       "      <td>1</td>\n",
       "      <td>-73.925369</td>\n",
       "      <td>40.761814</td>\n",
       "      <td>-73.886261</td>\n",
       "      <td>40.749565</td>\n",
       "      <td>1</td>\n",
       "      <td>2.29</td>\n",
       "      <td>...</td>\n",
       "      <td>0.5</td>\n",
       "      <td>0.5</td>\n",
       "      <td>0.0</td>\n",
       "      <td>0.0</td>\n",
       "      <td>NaN</td>\n",
       "      <td>11.0</td>\n",
       "      <td>2</td>\n",
       "      <td>1</td>\n",
       "      <td>NaN</td>\n",
       "      <td>NaN</td>\n",
       "    </tr>\n",
       "    <tr>\n",
       "      <th>2</th>\n",
       "      <td>2014-04-01 02:35:37</td>\n",
       "      <td>2014-04-01 02:49:16</td>\n",
       "      <td>N</td>\n",
       "      <td>1</td>\n",
       "      <td>-73.937965</td>\n",
       "      <td>40.808022</td>\n",
       "      <td>-73.976608</td>\n",
       "      <td>40.748375</td>\n",
       "      <td>2</td>\n",
       "      <td>4.99</td>\n",
       "      <td>...</td>\n",
       "      <td>0.5</td>\n",
       "      <td>0.5</td>\n",
       "      <td>2.5</td>\n",
       "      <td>0.0</td>\n",
       "      <td>NaN</td>\n",
       "      <td>19.0</td>\n",
       "      <td>1</td>\n",
       "      <td>1</td>\n",
       "      <td>NaN</td>\n",
       "      <td>NaN</td>\n",
       "    </tr>\n",
       "    <tr>\n",
       "      <th>2</th>\n",
       "      <td>2014-04-01 02:36:00</td>\n",
       "      <td>2014-04-01 02:45:44</td>\n",
       "      <td>N</td>\n",
       "      <td>1</td>\n",
       "      <td>-73.870270</td>\n",
       "      <td>40.749130</td>\n",
       "      <td>-73.942863</td>\n",
       "      <td>40.838142</td>\n",
       "      <td>1</td>\n",
       "      <td>2.33</td>\n",
       "      <td>...</td>\n",
       "      <td>0.5</td>\n",
       "      <td>0.5</td>\n",
       "      <td>0.0</td>\n",
       "      <td>0.0</td>\n",
       "      <td>NaN</td>\n",
       "      <td>11.0</td>\n",
       "      <td>2</td>\n",
       "      <td>1</td>\n",
       "      <td>NaN</td>\n",
       "      <td>NaN</td>\n",
       "    </tr>\n",
       "  </tbody>\n",
       "</table>\n",
       "<p>1590 rows × 21 columns</p>\n",
       "</div>"
      ],
      "text/plain": [
       "         lpep_pickup_datetime Lpep_dropoff_datetime Store_and_fwd_flag  \\\n",
       "VendorID                                                                 \n",
       "2         2014-04-01 00:00:00   2014-04-01 14:24:20                  N   \n",
       "2         2014-04-01 00:00:00   2014-04-01 17:21:33                  N   \n",
       "2         2014-04-01 00:00:00   2014-04-01 15:06:18                  N   \n",
       "2         2014-04-01 00:00:00   2014-04-01 08:09:27                  N   \n",
       "2         2014-04-01 00:00:00   2014-04-01 16:15:13                  N   \n",
       "...                       ...                   ...                ...   \n",
       "2         2014-04-01 02:35:15   2014-04-01 02:40:47                  N   \n",
       "2         2014-04-01 02:35:22   2014-04-01 02:47:14                  N   \n",
       "2         2014-04-01 02:35:23   2014-04-01 02:43:53                  N   \n",
       "2         2014-04-01 02:35:37   2014-04-01 02:49:16                  N   \n",
       "2         2014-04-01 02:36:00   2014-04-01 02:45:44                  N   \n",
       "\n",
       "         RateCodeID  Pickup_longitude  Pickup_latitude  Dropoff_longitude  \\\n",
       "VendorID                                                                    \n",
       "2                 1          0.000000         0.000000           0.000000   \n",
       "2                 1          0.000000         0.000000         -73.987663   \n",
       "2                 1          0.000000         0.000000         -73.946922   \n",
       "2                 1          0.000000         0.000000         -73.947670   \n",
       "2                 1          0.000000         0.000000           0.000000   \n",
       "...             ...               ...              ...                ...   \n",
       "2                 1        -73.927505        40.810944         -73.920647   \n",
       "2                 1        -73.963692        40.676941         -73.956619   \n",
       "2                 1        -73.925369        40.761814         -73.886261   \n",
       "2                 1        -73.937965        40.808022         -73.976608   \n",
       "2                 1        -73.870270        40.749130         -73.942863   \n",
       "\n",
       "          Dropoff_latitude  Passenger_count  Trip_distance  ...  Extra  \\\n",
       "VendorID                                                    ...          \n",
       "2                 0.000000                1           7.45  ...    0.0   \n",
       "2                40.780872                1           8.95  ...    1.0   \n",
       "2                40.831764                1           1.32  ...    0.0   \n",
       "2                40.808651                5           0.10  ...    0.0   \n",
       "2                 0.000000                1           7.09  ...    0.0   \n",
       "...                    ...              ...            ...  ...    ...   \n",
       "2                40.830791                1           1.56  ...    0.5   \n",
       "2                40.637798                1           3.70  ...    0.5   \n",
       "2                40.749565                1           2.29  ...    0.5   \n",
       "2                40.748375                2           4.99  ...    0.5   \n",
       "2                40.838142                1           2.33  ...    0.5   \n",
       "\n",
       "          MTA_tax  Tip_amount  Tolls_amount  Ehail_fee  Total_amount  \\\n",
       "VendorID                                                               \n",
       "2             0.5         0.0           0.0        NaN          23.5   \n",
       "2             0.5         0.0           0.0        NaN          32.5   \n",
       "2             0.5         0.0           0.0        NaN           7.0   \n",
       "2             0.5         0.0           0.0        NaN           3.5   \n",
       "2             0.5         4.7           0.0        NaN          28.7   \n",
       "...           ...         ...           ...        ...           ...   \n",
       "2             0.5         0.0           0.0        NaN           8.0   \n",
       "2             0.5         3.5           0.0        NaN          18.0   \n",
       "2             0.5         0.0           0.0        NaN          11.0   \n",
       "2             0.5         2.5           0.0        NaN          19.0   \n",
       "2             0.5         0.0           0.0        NaN          11.0   \n",
       "\n",
       "          Payment_type  Trip_type Unnamed: 20      \n",
       "VendorID                                           \n",
       "2                    2          1         NaN NaN  \n",
       "2                    2          1         NaN NaN  \n",
       "2                    2          1         NaN NaN  \n",
       "2                    2          1         NaN NaN  \n",
       "2                    1          1         NaN NaN  \n",
       "...                ...        ...         ...  ..  \n",
       "2                    2          1         NaN NaN  \n",
       "2                    1          1         NaN NaN  \n",
       "2                    2          1         NaN NaN  \n",
       "2                    1          1         NaN NaN  \n",
       "2                    2          1         NaN NaN  \n",
       "\n",
       "[1590 rows x 21 columns]"
      ]
     },
     "execution_count": 34,
     "metadata": {},
     "output_type": "execute_result"
    }
   ],
   "source": [
    "green.loc[2]"
   ]
  },
  {
   "cell_type": "markdown",
   "metadata": {},
   "source": [
    "Or by position"
   ]
  },
  {
   "cell_type": "code",
   "execution_count": 35,
   "metadata": {},
   "outputs": [
    {
     "data": {
      "text/plain": [
       "lpep_pickup_datetime     2014-04-01 01:27:36\n",
       "Lpep_dropoff_datetime    2014-04-01 01:31:40\n",
       "Store_and_fwd_flag                         N\n",
       "RateCodeID                                 1\n",
       "Pickup_longitude                  -73.903275\n",
       "Pickup_latitude                    40.745735\n",
       "Dropoff_longitude                 -73.897652\n",
       "Dropoff_latitude                   40.744522\n",
       "Passenger_count                            1\n",
       "Trip_distance                           0.76\n",
       "Fare_amount                              5.0\n",
       "Extra                                    0.5\n",
       "MTA_tax                                  0.5\n",
       "Tip_amount                               0.0\n",
       "Tolls_amount                             0.0\n",
       "Ehail_fee                                NaN\n",
       "Total_amount                             6.0\n",
       "Payment_type                               2\n",
       "Trip_type                                  1\n",
       "Unnamed: 20                              NaN\n",
       "                                         NaN\n",
       "Name: 2, dtype: object"
      ]
     },
     "execution_count": 35,
     "metadata": {},
     "output_type": "execute_result"
    }
   ],
   "source": [
    "green.iloc[1336]"
   ]
  },
  {
   "cell_type": "markdown",
   "metadata": {},
   "source": [
    "Rows behave a named tuples, so you can access individual elements by position:"
   ]
  },
  {
   "cell_type": "code",
   "execution_count": 36,
   "metadata": {},
   "outputs": [
    {
     "data": {
      "text/plain": [
       "5.0"
      ]
     },
     "execution_count": 36,
     "metadata": {},
     "output_type": "execute_result"
    }
   ],
   "source": [
    "green.iloc[1336, 10]"
   ]
  },
  {
   "cell_type": "markdown",
   "metadata": {},
   "source": [
    "Or by name"
   ]
  },
  {
   "cell_type": "code",
   "execution_count": 38,
   "metadata": {},
   "outputs": [
    {
     "data": {
      "text/plain": [
       "5.0"
      ]
     },
     "execution_count": 38,
     "metadata": {},
     "output_type": "execute_result"
    }
   ],
   "source": [
    "green.iloc[1336].Fare_amount"
   ]
  },
  {
   "cell_type": "markdown",
   "metadata": {},
   "source": [
    "Ranges can also be used with iloc"
   ]
  },
  {
   "cell_type": "code",
   "execution_count": 39,
   "metadata": {},
   "outputs": [
    {
     "data": {
      "text/html": [
       "<div>\n",
       "<style scoped>\n",
       "    .dataframe tbody tr th:only-of-type {\n",
       "        vertical-align: middle;\n",
       "    }\n",
       "\n",
       "    .dataframe tbody tr th {\n",
       "        vertical-align: top;\n",
       "    }\n",
       "\n",
       "    .dataframe thead th {\n",
       "        text-align: right;\n",
       "    }\n",
       "</style>\n",
       "<table border=\"1\" class=\"dataframe\">\n",
       "  <thead>\n",
       "    <tr style=\"text-align: right;\">\n",
       "      <th></th>\n",
       "      <th>lpep_pickup_datetime</th>\n",
       "      <th>Lpep_dropoff_datetime</th>\n",
       "      <th>Store_and_fwd_flag</th>\n",
       "      <th>RateCodeID</th>\n",
       "      <th>Pickup_longitude</th>\n",
       "      <th>Pickup_latitude</th>\n",
       "      <th>Dropoff_longitude</th>\n",
       "      <th>Dropoff_latitude</th>\n",
       "      <th>Passenger_count</th>\n",
       "      <th>Trip_distance</th>\n",
       "      <th>...</th>\n",
       "      <th>Extra</th>\n",
       "      <th>MTA_tax</th>\n",
       "      <th>Tip_amount</th>\n",
       "      <th>Tolls_amount</th>\n",
       "      <th>Ehail_fee</th>\n",
       "      <th>Total_amount</th>\n",
       "      <th>Payment_type</th>\n",
       "      <th>Trip_type</th>\n",
       "      <th>Unnamed: 20</th>\n",
       "      <th></th>\n",
       "    </tr>\n",
       "    <tr>\n",
       "      <th>VendorID</th>\n",
       "      <th></th>\n",
       "      <th></th>\n",
       "      <th></th>\n",
       "      <th></th>\n",
       "      <th></th>\n",
       "      <th></th>\n",
       "      <th></th>\n",
       "      <th></th>\n",
       "      <th></th>\n",
       "      <th></th>\n",
       "      <th></th>\n",
       "      <th></th>\n",
       "      <th></th>\n",
       "      <th></th>\n",
       "      <th></th>\n",
       "      <th></th>\n",
       "      <th></th>\n",
       "      <th></th>\n",
       "      <th></th>\n",
       "      <th></th>\n",
       "      <th></th>\n",
       "    </tr>\n",
       "  </thead>\n",
       "  <tbody>\n",
       "    <tr>\n",
       "      <th>2</th>\n",
       "      <td>2014-04-01</td>\n",
       "      <td>2014-04-01 17:21:33</td>\n",
       "      <td>N</td>\n",
       "      <td>1</td>\n",
       "      <td>0.0</td>\n",
       "      <td>0.0</td>\n",
       "      <td>-73.987663</td>\n",
       "      <td>40.780872</td>\n",
       "      <td>1</td>\n",
       "      <td>8.95</td>\n",
       "      <td>...</td>\n",
       "      <td>1.0</td>\n",
       "      <td>0.5</td>\n",
       "      <td>0.0</td>\n",
       "      <td>0.0</td>\n",
       "      <td>NaN</td>\n",
       "      <td>32.5</td>\n",
       "      <td>2</td>\n",
       "      <td>1</td>\n",
       "      <td>NaN</td>\n",
       "      <td>NaN</td>\n",
       "    </tr>\n",
       "    <tr>\n",
       "      <th>2</th>\n",
       "      <td>2014-04-01</td>\n",
       "      <td>2014-04-01 15:06:18</td>\n",
       "      <td>N</td>\n",
       "      <td>1</td>\n",
       "      <td>0.0</td>\n",
       "      <td>0.0</td>\n",
       "      <td>-73.946922</td>\n",
       "      <td>40.831764</td>\n",
       "      <td>1</td>\n",
       "      <td>1.32</td>\n",
       "      <td>...</td>\n",
       "      <td>0.0</td>\n",
       "      <td>0.5</td>\n",
       "      <td>0.0</td>\n",
       "      <td>0.0</td>\n",
       "      <td>NaN</td>\n",
       "      <td>7.0</td>\n",
       "      <td>2</td>\n",
       "      <td>1</td>\n",
       "      <td>NaN</td>\n",
       "      <td>NaN</td>\n",
       "    </tr>\n",
       "    <tr>\n",
       "      <th>2</th>\n",
       "      <td>2014-04-01</td>\n",
       "      <td>2014-04-01 08:09:27</td>\n",
       "      <td>N</td>\n",
       "      <td>1</td>\n",
       "      <td>0.0</td>\n",
       "      <td>0.0</td>\n",
       "      <td>-73.947670</td>\n",
       "      <td>40.808651</td>\n",
       "      <td>5</td>\n",
       "      <td>0.10</td>\n",
       "      <td>...</td>\n",
       "      <td>0.0</td>\n",
       "      <td>0.5</td>\n",
       "      <td>0.0</td>\n",
       "      <td>0.0</td>\n",
       "      <td>NaN</td>\n",
       "      <td>3.5</td>\n",
       "      <td>2</td>\n",
       "      <td>1</td>\n",
       "      <td>NaN</td>\n",
       "      <td>NaN</td>\n",
       "    </tr>\n",
       "  </tbody>\n",
       "</table>\n",
       "<p>3 rows × 21 columns</p>\n",
       "</div>"
      ],
      "text/plain": [
       "         lpep_pickup_datetime Lpep_dropoff_datetime Store_and_fwd_flag  \\\n",
       "VendorID                                                                 \n",
       "2                  2014-04-01   2014-04-01 17:21:33                  N   \n",
       "2                  2014-04-01   2014-04-01 15:06:18                  N   \n",
       "2                  2014-04-01   2014-04-01 08:09:27                  N   \n",
       "\n",
       "         RateCodeID  Pickup_longitude  Pickup_latitude  Dropoff_longitude  \\\n",
       "VendorID                                                                    \n",
       "2                 1               0.0              0.0         -73.987663   \n",
       "2                 1               0.0              0.0         -73.946922   \n",
       "2                 1               0.0              0.0         -73.947670   \n",
       "\n",
       "          Dropoff_latitude  Passenger_count  Trip_distance  ...  Extra  \\\n",
       "VendorID                                                    ...          \n",
       "2                40.780872                1           8.95  ...    1.0   \n",
       "2                40.831764                1           1.32  ...    0.0   \n",
       "2                40.808651                5           0.10  ...    0.0   \n",
       "\n",
       "          MTA_tax  Tip_amount  Tolls_amount  Ehail_fee  Total_amount  \\\n",
       "VendorID                                                               \n",
       "2             0.5         0.0           0.0        NaN          32.5   \n",
       "2             0.5         0.0           0.0        NaN           7.0   \n",
       "2             0.5         0.0           0.0        NaN           3.5   \n",
       "\n",
       "          Payment_type  Trip_type Unnamed: 20      \n",
       "VendorID                                           \n",
       "2                    2          1         NaN NaN  \n",
       "2                    2          1         NaN NaN  \n",
       "2                    2          1         NaN NaN  \n",
       "\n",
       "[3 rows x 21 columns]"
      ]
     },
     "execution_count": 39,
     "metadata": {},
     "output_type": "execute_result"
    }
   ],
   "source": [
    "green.iloc[1:4]"
   ]
  },
  {
   "cell_type": "markdown",
   "metadata": {},
   "source": [
    "## Time Series"
   ]
  },
  {
   "cell_type": "markdown",
   "metadata": {},
   "source": [
    "Apple stock information from https://finance.yahoo.com/quote/AAPL/history"
   ]
  },
  {
   "cell_type": "markdown",
   "metadata": {},
   "source": [
    "We can automatically convert the Date column using __pd.read_csv__:"
   ]
  },
  {
   "cell_type": "code",
   "execution_count": 40,
   "metadata": {},
   "outputs": [],
   "source": [
    "data = pd.read_csv('data/AAPL.csv', parse_dates=['Date'])"
   ]
  },
  {
   "cell_type": "code",
   "execution_count": 41,
   "metadata": {},
   "outputs": [
    {
     "data": {
      "text/plain": [
       "Date         datetime64[ns]\n",
       "Open                float64\n",
       "High                float64\n",
       "Low                 float64\n",
       "Close               float64\n",
       "Adj Close           float64\n",
       "Volume              float64\n",
       "dtype: object"
      ]
     },
     "execution_count": 41,
     "metadata": {},
     "output_type": "execute_result"
    }
   ],
   "source": [
    "data.dtypes"
   ]
  },
  {
   "cell_type": "markdown",
   "metadata": {},
   "source": [
    "If we now set the Date column to be the index, we effectively create our first Time Series"
   ]
  },
  {
   "cell_type": "code",
   "execution_count": 42,
   "metadata": {},
   "outputs": [],
   "source": [
    "data.set_index('Date', inplace=True)"
   ]
  },
  {
   "cell_type": "markdown",
   "metadata": {},
   "source": [
    "We see that pandas automatically generated a \"DatetimeIndex\" object that allos us to take advantage of the fact that we are dealing with dates"
   ]
  },
  {
   "cell_type": "code",
   "execution_count": 43,
   "metadata": {},
   "outputs": [
    {
     "name": "stdout",
     "output_type": "stream",
     "text": [
      "<class 'pandas.core.frame.DataFrame'>\n",
      "DatetimeIndex: 9887 entries, 1980-12-12 to 2020-02-28\n",
      "Data columns (total 6 columns):\n",
      " #   Column     Non-Null Count  Dtype  \n",
      "---  ------     --------------  -----  \n",
      " 0   Open       9886 non-null   float64\n",
      " 1   High       9886 non-null   float64\n",
      " 2   Low        9886 non-null   float64\n",
      " 3   Close      9886 non-null   float64\n",
      " 4   Adj Close  9886 non-null   float64\n",
      " 5   Volume     9886 non-null   float64\n",
      "dtypes: float64(6)\n",
      "memory usage: 540.7 KB\n"
     ]
    }
   ],
   "source": [
    "data.info()"
   ]
  },
  {
   "cell_type": "markdown",
   "metadata": {},
   "source": [
    "We can easily access parts of the date object"
   ]
  },
  {
   "cell_type": "code",
   "execution_count": 44,
   "metadata": {},
   "outputs": [
    {
     "data": {
      "text/html": [
       "<div>\n",
       "<style scoped>\n",
       "    .dataframe tbody tr th:only-of-type {\n",
       "        vertical-align: middle;\n",
       "    }\n",
       "\n",
       "    .dataframe tbody tr th {\n",
       "        vertical-align: top;\n",
       "    }\n",
       "\n",
       "    .dataframe thead th {\n",
       "        text-align: right;\n",
       "    }\n",
       "</style>\n",
       "<table border=\"1\" class=\"dataframe\">\n",
       "  <thead>\n",
       "    <tr style=\"text-align: right;\">\n",
       "      <th></th>\n",
       "      <th>Open</th>\n",
       "      <th>High</th>\n",
       "      <th>Low</th>\n",
       "      <th>Close</th>\n",
       "      <th>Adj Close</th>\n",
       "      <th>Volume</th>\n",
       "    </tr>\n",
       "    <tr>\n",
       "      <th>Date</th>\n",
       "      <th></th>\n",
       "      <th></th>\n",
       "      <th></th>\n",
       "      <th></th>\n",
       "      <th></th>\n",
       "      <th></th>\n",
       "    </tr>\n",
       "  </thead>\n",
       "  <tbody>\n",
       "    <tr>\n",
       "      <th>1980-12-12</th>\n",
       "      <td>0.513393</td>\n",
       "      <td>0.515625</td>\n",
       "      <td>0.513393</td>\n",
       "      <td>0.513393</td>\n",
       "      <td>0.406782</td>\n",
       "      <td>117258400.0</td>\n",
       "    </tr>\n",
       "    <tr>\n",
       "      <th>1980-12-15</th>\n",
       "      <td>0.488839</td>\n",
       "      <td>0.488839</td>\n",
       "      <td>0.486607</td>\n",
       "      <td>0.486607</td>\n",
       "      <td>0.385558</td>\n",
       "      <td>43971200.0</td>\n",
       "    </tr>\n",
       "    <tr>\n",
       "      <th>1980-12-16</th>\n",
       "      <td>0.453125</td>\n",
       "      <td>0.453125</td>\n",
       "      <td>0.450893</td>\n",
       "      <td>0.450893</td>\n",
       "      <td>0.357260</td>\n",
       "      <td>26432000.0</td>\n",
       "    </tr>\n",
       "    <tr>\n",
       "      <th>1980-12-17</th>\n",
       "      <td>0.462054</td>\n",
       "      <td>0.464286</td>\n",
       "      <td>0.462054</td>\n",
       "      <td>0.462054</td>\n",
       "      <td>0.366103</td>\n",
       "      <td>21610400.0</td>\n",
       "    </tr>\n",
       "    <tr>\n",
       "      <th>1980-12-18</th>\n",
       "      <td>0.475446</td>\n",
       "      <td>0.477679</td>\n",
       "      <td>0.475446</td>\n",
       "      <td>0.475446</td>\n",
       "      <td>0.376715</td>\n",
       "      <td>18362400.0</td>\n",
       "    </tr>\n",
       "    <tr>\n",
       "      <th>...</th>\n",
       "      <td>...</td>\n",
       "      <td>...</td>\n",
       "      <td>...</td>\n",
       "      <td>...</td>\n",
       "      <td>...</td>\n",
       "      <td>...</td>\n",
       "    </tr>\n",
       "    <tr>\n",
       "      <th>2020-02-24</th>\n",
       "      <td>297.260010</td>\n",
       "      <td>304.179993</td>\n",
       "      <td>289.230011</td>\n",
       "      <td>298.179993</td>\n",
       "      <td>298.179993</td>\n",
       "      <td>55548800.0</td>\n",
       "    </tr>\n",
       "    <tr>\n",
       "      <th>2020-02-25</th>\n",
       "      <td>300.950012</td>\n",
       "      <td>302.529999</td>\n",
       "      <td>286.130005</td>\n",
       "      <td>288.079987</td>\n",
       "      <td>288.079987</td>\n",
       "      <td>57668400.0</td>\n",
       "    </tr>\n",
       "    <tr>\n",
       "      <th>2020-02-26</th>\n",
       "      <td>286.529999</td>\n",
       "      <td>297.880005</td>\n",
       "      <td>286.500000</td>\n",
       "      <td>292.649994</td>\n",
       "      <td>292.649994</td>\n",
       "      <td>49513700.0</td>\n",
       "    </tr>\n",
       "    <tr>\n",
       "      <th>2020-02-27</th>\n",
       "      <td>281.100006</td>\n",
       "      <td>286.000000</td>\n",
       "      <td>272.959991</td>\n",
       "      <td>273.519989</td>\n",
       "      <td>273.519989</td>\n",
       "      <td>80151400.0</td>\n",
       "    </tr>\n",
       "    <tr>\n",
       "      <th>2020-02-28</th>\n",
       "      <td>257.260010</td>\n",
       "      <td>278.410004</td>\n",
       "      <td>256.369995</td>\n",
       "      <td>273.359985</td>\n",
       "      <td>273.359985</td>\n",
       "      <td>106627500.0</td>\n",
       "    </tr>\n",
       "  </tbody>\n",
       "</table>\n",
       "<p>9887 rows × 6 columns</p>\n",
       "</div>"
      ],
      "text/plain": [
       "                  Open        High         Low       Close   Adj Close  \\\n",
       "Date                                                                     \n",
       "1980-12-12    0.513393    0.515625    0.513393    0.513393    0.406782   \n",
       "1980-12-15    0.488839    0.488839    0.486607    0.486607    0.385558   \n",
       "1980-12-16    0.453125    0.453125    0.450893    0.450893    0.357260   \n",
       "1980-12-17    0.462054    0.464286    0.462054    0.462054    0.366103   \n",
       "1980-12-18    0.475446    0.477679    0.475446    0.475446    0.376715   \n",
       "...                ...         ...         ...         ...         ...   \n",
       "2020-02-24  297.260010  304.179993  289.230011  298.179993  298.179993   \n",
       "2020-02-25  300.950012  302.529999  286.130005  288.079987  288.079987   \n",
       "2020-02-26  286.529999  297.880005  286.500000  292.649994  292.649994   \n",
       "2020-02-27  281.100006  286.000000  272.959991  273.519989  273.519989   \n",
       "2020-02-28  257.260010  278.410004  256.369995  273.359985  273.359985   \n",
       "\n",
       "                 Volume  \n",
       "Date                     \n",
       "1980-12-12  117258400.0  \n",
       "1980-12-15   43971200.0  \n",
       "1980-12-16   26432000.0  \n",
       "1980-12-17   21610400.0  \n",
       "1980-12-18   18362400.0  \n",
       "...                 ...  \n",
       "2020-02-24   55548800.0  \n",
       "2020-02-25   57668400.0  \n",
       "2020-02-26   49513700.0  \n",
       "2020-02-27   80151400.0  \n",
       "2020-02-28  106627500.0  \n",
       "\n",
       "[9887 rows x 6 columns]"
      ]
     },
     "execution_count": 44,
     "metadata": {},
     "output_type": "execute_result"
    }
   ],
   "source": [
    "data"
   ]
  },
  {
   "cell_type": "code",
   "execution_count": 46,
   "metadata": {},
   "outputs": [
    {
     "data": {
      "text/plain": [
       "Index([12, 12, 12, 12, 12, 12, 12, 12, 12, 12,\n",
       "       ...\n",
       "        2,  2,  2,  2,  2,  2,  2,  2,  2,  2],\n",
       "      dtype='int32', name='Date', length=9887)"
      ]
     },
     "execution_count": 46,
     "metadata": {},
     "output_type": "execute_result"
    }
   ],
   "source": [
    "data.index.month"
   ]
  },
  {
   "cell_type": "code",
   "execution_count": 47,
   "metadata": {},
   "outputs": [
    {
     "data": {
      "text/plain": [
       "Index([1980, 1980, 1980, 1980, 1980, 1980, 1980, 1980, 1980, 1980,\n",
       "       ...\n",
       "       2020, 2020, 2020, 2020, 2020, 2020, 2020, 2020, 2020, 2020],\n",
       "      dtype='int32', name='Date', length=9887)"
      ]
     },
     "execution_count": 47,
     "metadata": {},
     "output_type": "execute_result"
    }
   ],
   "source": [
    "data.index.year"
   ]
  },
  {
   "cell_type": "code",
   "execution_count": 48,
   "metadata": {},
   "outputs": [
    {
     "data": {
      "text/plain": [
       "Index([12, 15, 16, 17, 18, 19, 22, 23, 24, 26,\n",
       "       ...\n",
       "       14, 18, 19, 20, 21, 24, 25, 26, 27, 28],\n",
       "      dtype='int32', name='Date', length=9887)"
      ]
     },
     "execution_count": 48,
     "metadata": {},
     "output_type": "execute_result"
    }
   ],
   "source": [
    "data.index.day"
   ]
  },
  {
   "cell_type": "markdown",
   "metadata": {},
   "source": [
    "And slice the DataFrame by date"
   ]
  },
  {
   "cell_type": "code",
   "execution_count": 49,
   "metadata": {},
   "outputs": [
    {
     "data": {
      "text/html": [
       "<div>\n",
       "<style scoped>\n",
       "    .dataframe tbody tr th:only-of-type {\n",
       "        vertical-align: middle;\n",
       "    }\n",
       "\n",
       "    .dataframe tbody tr th {\n",
       "        vertical-align: top;\n",
       "    }\n",
       "\n",
       "    .dataframe thead th {\n",
       "        text-align: right;\n",
       "    }\n",
       "</style>\n",
       "<table border=\"1\" class=\"dataframe\">\n",
       "  <thead>\n",
       "    <tr style=\"text-align: right;\">\n",
       "      <th></th>\n",
       "      <th>Open</th>\n",
       "      <th>High</th>\n",
       "      <th>Low</th>\n",
       "      <th>Close</th>\n",
       "      <th>Adj Close</th>\n",
       "      <th>Volume</th>\n",
       "    </tr>\n",
       "    <tr>\n",
       "      <th>Date</th>\n",
       "      <th></th>\n",
       "      <th></th>\n",
       "      <th></th>\n",
       "      <th></th>\n",
       "      <th></th>\n",
       "      <th></th>\n",
       "    </tr>\n",
       "  </thead>\n",
       "  <tbody>\n",
       "    <tr>\n",
       "      <th>2010-01-04</th>\n",
       "      <td>30.49</td>\n",
       "      <td>30.64</td>\n",
       "      <td>30.34</td>\n",
       "      <td>30.57</td>\n",
       "      <td>26.54</td>\n",
       "      <td>123432400.0</td>\n",
       "    </tr>\n",
       "    <tr>\n",
       "      <th>2010-01-05</th>\n",
       "      <td>30.66</td>\n",
       "      <td>30.80</td>\n",
       "      <td>30.46</td>\n",
       "      <td>30.63</td>\n",
       "      <td>26.58</td>\n",
       "      <td>150476200.0</td>\n",
       "    </tr>\n",
       "    <tr>\n",
       "      <th>2010-01-06</th>\n",
       "      <td>30.63</td>\n",
       "      <td>30.75</td>\n",
       "      <td>30.11</td>\n",
       "      <td>30.14</td>\n",
       "      <td>26.16</td>\n",
       "      <td>138040000.0</td>\n",
       "    </tr>\n",
       "    <tr>\n",
       "      <th>2010-01-07</th>\n",
       "      <td>30.25</td>\n",
       "      <td>30.29</td>\n",
       "      <td>29.86</td>\n",
       "      <td>30.08</td>\n",
       "      <td>26.11</td>\n",
       "      <td>119282800.0</td>\n",
       "    </tr>\n",
       "    <tr>\n",
       "      <th>2010-01-08</th>\n",
       "      <td>30.04</td>\n",
       "      <td>30.29</td>\n",
       "      <td>29.87</td>\n",
       "      <td>30.28</td>\n",
       "      <td>26.29</td>\n",
       "      <td>111902700.0</td>\n",
       "    </tr>\n",
       "    <tr>\n",
       "      <th>...</th>\n",
       "      <td>...</td>\n",
       "      <td>...</td>\n",
       "      <td>...</td>\n",
       "      <td>...</td>\n",
       "      <td>...</td>\n",
       "      <td>...</td>\n",
       "    </tr>\n",
       "    <tr>\n",
       "      <th>2010-06-04</th>\n",
       "      <td>36.89</td>\n",
       "      <td>37.41</td>\n",
       "      <td>36.38</td>\n",
       "      <td>36.57</td>\n",
       "      <td>31.74</td>\n",
       "      <td>189576100.0</td>\n",
       "    </tr>\n",
       "    <tr>\n",
       "      <th>2010-06-07</th>\n",
       "      <td>36.90</td>\n",
       "      <td>37.02</td>\n",
       "      <td>35.79</td>\n",
       "      <td>35.85</td>\n",
       "      <td>31.12</td>\n",
       "      <td>221735500.0</td>\n",
       "    </tr>\n",
       "    <tr>\n",
       "      <th>2010-06-08</th>\n",
       "      <td>36.18</td>\n",
       "      <td>36.26</td>\n",
       "      <td>35.09</td>\n",
       "      <td>35.62</td>\n",
       "      <td>30.92</td>\n",
       "      <td>250192600.0</td>\n",
       "    </tr>\n",
       "    <tr>\n",
       "      <th>2010-06-09</th>\n",
       "      <td>35.92</td>\n",
       "      <td>35.99</td>\n",
       "      <td>34.64</td>\n",
       "      <td>34.74</td>\n",
       "      <td>30.16</td>\n",
       "      <td>213657500.0</td>\n",
       "    </tr>\n",
       "    <tr>\n",
       "      <th>2010-06-10</th>\n",
       "      <td>34.98</td>\n",
       "      <td>35.85</td>\n",
       "      <td>34.60</td>\n",
       "      <td>35.79</td>\n",
       "      <td>31.06</td>\n",
       "      <td>194089000.0</td>\n",
       "    </tr>\n",
       "  </tbody>\n",
       "</table>\n",
       "<p>110 rows × 6 columns</p>\n",
       "</div>"
      ],
      "text/plain": [
       "             Open   High    Low  Close  Adj Close       Volume\n",
       "Date                                                          \n",
       "2010-01-04  30.49  30.64  30.34  30.57      26.54  123432400.0\n",
       "2010-01-05  30.66  30.80  30.46  30.63      26.58  150476200.0\n",
       "2010-01-06  30.63  30.75  30.11  30.14      26.16  138040000.0\n",
       "2010-01-07  30.25  30.29  29.86  30.08      26.11  119282800.0\n",
       "2010-01-08  30.04  30.29  29.87  30.28      26.29  111902700.0\n",
       "...           ...    ...    ...    ...        ...          ...\n",
       "2010-06-04  36.89  37.41  36.38  36.57      31.74  189576100.0\n",
       "2010-06-07  36.90  37.02  35.79  35.85      31.12  221735500.0\n",
       "2010-06-08  36.18  36.26  35.09  35.62      30.92  250192600.0\n",
       "2010-06-09  35.92  35.99  34.64  34.74      30.16  213657500.0\n",
       "2010-06-10  34.98  35.85  34.60  35.79      31.06  194089000.0\n",
       "\n",
       "[110 rows x 6 columns]"
      ]
     },
     "execution_count": 49,
     "metadata": {},
     "output_type": "execute_result"
    }
   ],
   "source": [
    "data.loc['2010':'2010-06-10'].round(2)"
   ]
  },
  {
   "cell_type": "markdown",
   "metadata": {},
   "source": [
    "As before, we note that the last value is also included"
   ]
  },
  {
   "cell_type": "markdown",
   "metadata": {},
   "source": [
    "## Merge and Join"
   ]
  },
  {
   "cell_type": "markdown",
   "metadata": {},
   "source": [
    "Define 2 toy DataFrames"
   ]
  },
  {
   "cell_type": "code",
   "execution_count": 50,
   "metadata": {},
   "outputs": [],
   "source": [
    "A = pd.DataFrame({\"lkey\":  [\"foo\", \"bar\", \"baz\", \"foo\"], \n",
    "                  \"value\": [1,     2,     3,     4]})\n",
    "\n",
    "B = pd.DataFrame({\"rkey\":  [\"foo\", \"bar\", \"qux\", \"bar\"], \n",
    "                  \"value\": [5,     6,     7,     8]})"
   ]
  },
  {
   "cell_type": "markdown",
   "metadata": {},
   "source": [
    "Merge allows us to join them by specifying an arbitrary column on each of them"
   ]
  },
  {
   "cell_type": "code",
   "execution_count": 52,
   "metadata": {},
   "outputs": [
    {
     "data": {
      "text/html": [
       "<div>\n",
       "<style scoped>\n",
       "    .dataframe tbody tr th:only-of-type {\n",
       "        vertical-align: middle;\n",
       "    }\n",
       "\n",
       "    .dataframe tbody tr th {\n",
       "        vertical-align: top;\n",
       "    }\n",
       "\n",
       "    .dataframe thead th {\n",
       "        text-align: right;\n",
       "    }\n",
       "</style>\n",
       "<table border=\"1\" class=\"dataframe\">\n",
       "  <thead>\n",
       "    <tr style=\"text-align: right;\">\n",
       "      <th></th>\n",
       "      <th>lkey</th>\n",
       "      <th>value_x</th>\n",
       "      <th>rkey</th>\n",
       "      <th>value_y</th>\n",
       "    </tr>\n",
       "  </thead>\n",
       "  <tbody>\n",
       "    <tr>\n",
       "      <th>0</th>\n",
       "      <td>foo</td>\n",
       "      <td>1</td>\n",
       "      <td>foo</td>\n",
       "      <td>5.0</td>\n",
       "    </tr>\n",
       "    <tr>\n",
       "      <th>1</th>\n",
       "      <td>bar</td>\n",
       "      <td>2</td>\n",
       "      <td>bar</td>\n",
       "      <td>6.0</td>\n",
       "    </tr>\n",
       "    <tr>\n",
       "      <th>2</th>\n",
       "      <td>bar</td>\n",
       "      <td>2</td>\n",
       "      <td>bar</td>\n",
       "      <td>8.0</td>\n",
       "    </tr>\n",
       "    <tr>\n",
       "      <th>3</th>\n",
       "      <td>baz</td>\n",
       "      <td>3</td>\n",
       "      <td>NaN</td>\n",
       "      <td>NaN</td>\n",
       "    </tr>\n",
       "    <tr>\n",
       "      <th>4</th>\n",
       "      <td>foo</td>\n",
       "      <td>4</td>\n",
       "      <td>foo</td>\n",
       "      <td>5.0</td>\n",
       "    </tr>\n",
       "  </tbody>\n",
       "</table>\n",
       "</div>"
      ],
      "text/plain": [
       "  lkey  value_x rkey  value_y\n",
       "0  foo        1  foo      5.0\n",
       "1  bar        2  bar      6.0\n",
       "2  bar        2  bar      8.0\n",
       "3  baz        3  NaN      NaN\n",
       "4  foo        4  foo      5.0"
      ]
     },
     "execution_count": 52,
     "metadata": {},
     "output_type": "execute_result"
    }
   ],
   "source": [
    "A.merge(B, left_on=\"lkey\", right_on=\"rkey\", how=\"left\")"
   ]
  },
  {
   "cell_type": "markdown",
   "metadata": {},
   "source": [
    "On the other hand, join performs the join using the respective Indices"
   ]
  },
  {
   "cell_type": "code",
   "execution_count": 53,
   "metadata": {},
   "outputs": [],
   "source": [
    "A.set_index('lkey', inplace=True)\n",
    "B.set_index('rkey', inplace=True)"
   ]
  },
  {
   "cell_type": "code",
   "execution_count": 54,
   "metadata": {},
   "outputs": [
    {
     "data": {
      "text/html": [
       "<div>\n",
       "<style scoped>\n",
       "    .dataframe tbody tr th:only-of-type {\n",
       "        vertical-align: middle;\n",
       "    }\n",
       "\n",
       "    .dataframe tbody tr th {\n",
       "        vertical-align: top;\n",
       "    }\n",
       "\n",
       "    .dataframe thead th {\n",
       "        text-align: right;\n",
       "    }\n",
       "</style>\n",
       "<table border=\"1\" class=\"dataframe\">\n",
       "  <thead>\n",
       "    <tr style=\"text-align: right;\">\n",
       "      <th></th>\n",
       "      <th>value_A</th>\n",
       "      <th>value_B</th>\n",
       "    </tr>\n",
       "    <tr>\n",
       "      <th>lkey</th>\n",
       "      <th></th>\n",
       "      <th></th>\n",
       "    </tr>\n",
       "  </thead>\n",
       "  <tbody>\n",
       "    <tr>\n",
       "      <th>bar</th>\n",
       "      <td>2</td>\n",
       "      <td>6</td>\n",
       "    </tr>\n",
       "    <tr>\n",
       "      <th>bar</th>\n",
       "      <td>2</td>\n",
       "      <td>8</td>\n",
       "    </tr>\n",
       "    <tr>\n",
       "      <th>foo</th>\n",
       "      <td>1</td>\n",
       "      <td>5</td>\n",
       "    </tr>\n",
       "    <tr>\n",
       "      <th>foo</th>\n",
       "      <td>4</td>\n",
       "      <td>5</td>\n",
       "    </tr>\n",
       "  </tbody>\n",
       "</table>\n",
       "</div>"
      ],
      "text/plain": [
       "      value_A  value_B\n",
       "lkey                  \n",
       "bar         2        6\n",
       "bar         2        8\n",
       "foo         1        5\n",
       "foo         4        5"
      ]
     },
     "execution_count": 54,
     "metadata": {},
     "output_type": "execute_result"
    }
   ],
   "source": [
    "A.join(B, lsuffix=\"_A\", rsuffix=\"_B\", how=\"inner\")"
   ]
  },
  {
   "cell_type": "markdown",
   "metadata": {},
   "source": [
    "# GroupBy"
   ]
  },
  {
   "cell_type": "code",
   "execution_count": 55,
   "metadata": {},
   "outputs": [
    {
     "data": {
      "text/html": [
       "<div>\n",
       "<style scoped>\n",
       "    .dataframe tbody tr th:only-of-type {\n",
       "        vertical-align: middle;\n",
       "    }\n",
       "\n",
       "    .dataframe tbody tr th {\n",
       "        vertical-align: top;\n",
       "    }\n",
       "\n",
       "    .dataframe thead th {\n",
       "        text-align: right;\n",
       "    }\n",
       "</style>\n",
       "<table border=\"1\" class=\"dataframe\">\n",
       "  <thead>\n",
       "    <tr style=\"text-align: right;\">\n",
       "      <th></th>\n",
       "      <th>Open</th>\n",
       "      <th>High</th>\n",
       "      <th>Low</th>\n",
       "      <th>Close</th>\n",
       "      <th>Adj Close</th>\n",
       "      <th>Volume</th>\n",
       "    </tr>\n",
       "    <tr>\n",
       "      <th>Date</th>\n",
       "      <th></th>\n",
       "      <th></th>\n",
       "      <th></th>\n",
       "      <th></th>\n",
       "      <th></th>\n",
       "      <th></th>\n",
       "    </tr>\n",
       "  </thead>\n",
       "  <tbody>\n",
       "    <tr>\n",
       "      <th>1980-12-12</th>\n",
       "      <td>0.513393</td>\n",
       "      <td>0.515625</td>\n",
       "      <td>0.513393</td>\n",
       "      <td>0.513393</td>\n",
       "      <td>0.406782</td>\n",
       "      <td>117258400.0</td>\n",
       "    </tr>\n",
       "    <tr>\n",
       "      <th>1980-12-15</th>\n",
       "      <td>0.488839</td>\n",
       "      <td>0.488839</td>\n",
       "      <td>0.486607</td>\n",
       "      <td>0.486607</td>\n",
       "      <td>0.385558</td>\n",
       "      <td>43971200.0</td>\n",
       "    </tr>\n",
       "    <tr>\n",
       "      <th>1980-12-16</th>\n",
       "      <td>0.453125</td>\n",
       "      <td>0.453125</td>\n",
       "      <td>0.450893</td>\n",
       "      <td>0.450893</td>\n",
       "      <td>0.357260</td>\n",
       "      <td>26432000.0</td>\n",
       "    </tr>\n",
       "    <tr>\n",
       "      <th>1980-12-17</th>\n",
       "      <td>0.462054</td>\n",
       "      <td>0.464286</td>\n",
       "      <td>0.462054</td>\n",
       "      <td>0.462054</td>\n",
       "      <td>0.366103</td>\n",
       "      <td>21610400.0</td>\n",
       "    </tr>\n",
       "    <tr>\n",
       "      <th>1980-12-18</th>\n",
       "      <td>0.475446</td>\n",
       "      <td>0.477679</td>\n",
       "      <td>0.475446</td>\n",
       "      <td>0.475446</td>\n",
       "      <td>0.376715</td>\n",
       "      <td>18362400.0</td>\n",
       "    </tr>\n",
       "    <tr>\n",
       "      <th>...</th>\n",
       "      <td>...</td>\n",
       "      <td>...</td>\n",
       "      <td>...</td>\n",
       "      <td>...</td>\n",
       "      <td>...</td>\n",
       "      <td>...</td>\n",
       "    </tr>\n",
       "    <tr>\n",
       "      <th>2020-02-24</th>\n",
       "      <td>297.260010</td>\n",
       "      <td>304.179993</td>\n",
       "      <td>289.230011</td>\n",
       "      <td>298.179993</td>\n",
       "      <td>298.179993</td>\n",
       "      <td>55548800.0</td>\n",
       "    </tr>\n",
       "    <tr>\n",
       "      <th>2020-02-25</th>\n",
       "      <td>300.950012</td>\n",
       "      <td>302.529999</td>\n",
       "      <td>286.130005</td>\n",
       "      <td>288.079987</td>\n",
       "      <td>288.079987</td>\n",
       "      <td>57668400.0</td>\n",
       "    </tr>\n",
       "    <tr>\n",
       "      <th>2020-02-26</th>\n",
       "      <td>286.529999</td>\n",
       "      <td>297.880005</td>\n",
       "      <td>286.500000</td>\n",
       "      <td>292.649994</td>\n",
       "      <td>292.649994</td>\n",
       "      <td>49513700.0</td>\n",
       "    </tr>\n",
       "    <tr>\n",
       "      <th>2020-02-27</th>\n",
       "      <td>281.100006</td>\n",
       "      <td>286.000000</td>\n",
       "      <td>272.959991</td>\n",
       "      <td>273.519989</td>\n",
       "      <td>273.519989</td>\n",
       "      <td>80151400.0</td>\n",
       "    </tr>\n",
       "    <tr>\n",
       "      <th>2020-02-28</th>\n",
       "      <td>257.260010</td>\n",
       "      <td>278.410004</td>\n",
       "      <td>256.369995</td>\n",
       "      <td>273.359985</td>\n",
       "      <td>273.359985</td>\n",
       "      <td>106627500.0</td>\n",
       "    </tr>\n",
       "  </tbody>\n",
       "</table>\n",
       "<p>9887 rows × 6 columns</p>\n",
       "</div>"
      ],
      "text/plain": [
       "                  Open        High         Low       Close   Adj Close  \\\n",
       "Date                                                                     \n",
       "1980-12-12    0.513393    0.515625    0.513393    0.513393    0.406782   \n",
       "1980-12-15    0.488839    0.488839    0.486607    0.486607    0.385558   \n",
       "1980-12-16    0.453125    0.453125    0.450893    0.450893    0.357260   \n",
       "1980-12-17    0.462054    0.464286    0.462054    0.462054    0.366103   \n",
       "1980-12-18    0.475446    0.477679    0.475446    0.475446    0.376715   \n",
       "...                ...         ...         ...         ...         ...   \n",
       "2020-02-24  297.260010  304.179993  289.230011  298.179993  298.179993   \n",
       "2020-02-25  300.950012  302.529999  286.130005  288.079987  288.079987   \n",
       "2020-02-26  286.529999  297.880005  286.500000  292.649994  292.649994   \n",
       "2020-02-27  281.100006  286.000000  272.959991  273.519989  273.519989   \n",
       "2020-02-28  257.260010  278.410004  256.369995  273.359985  273.359985   \n",
       "\n",
       "                 Volume  \n",
       "Date                     \n",
       "1980-12-12  117258400.0  \n",
       "1980-12-15   43971200.0  \n",
       "1980-12-16   26432000.0  \n",
       "1980-12-17   21610400.0  \n",
       "1980-12-18   18362400.0  \n",
       "...                 ...  \n",
       "2020-02-24   55548800.0  \n",
       "2020-02-25   57668400.0  \n",
       "2020-02-26   49513700.0  \n",
       "2020-02-27   80151400.0  \n",
       "2020-02-28  106627500.0  \n",
       "\n",
       "[9887 rows x 6 columns]"
      ]
     },
     "execution_count": 55,
     "metadata": {},
     "output_type": "execute_result"
    }
   ],
   "source": [
    "data"
   ]
  },
  {
   "cell_type": "code",
   "execution_count": 56,
   "metadata": {},
   "outputs": [],
   "source": [
    "apple = data.copy()"
   ]
  },
  {
   "cell_type": "code",
   "execution_count": 57,
   "metadata": {},
   "outputs": [],
   "source": [
    "apple['year'] = data.index.year\n",
    "apple['month'] = data.index.month"
   ]
  },
  {
   "cell_type": "code",
   "execution_count": 59,
   "metadata": {},
   "outputs": [
    {
     "data": {
      "text/html": [
       "<div>\n",
       "<style scoped>\n",
       "    .dataframe tbody tr th:only-of-type {\n",
       "        vertical-align: middle;\n",
       "    }\n",
       "\n",
       "    .dataframe tbody tr th {\n",
       "        vertical-align: top;\n",
       "    }\n",
       "\n",
       "    .dataframe thead th {\n",
       "        text-align: right;\n",
       "    }\n",
       "</style>\n",
       "<table border=\"1\" class=\"dataframe\">\n",
       "  <thead>\n",
       "    <tr style=\"text-align: right;\">\n",
       "      <th></th>\n",
       "      <th>Close</th>\n",
       "    </tr>\n",
       "    <tr>\n",
       "      <th>year</th>\n",
       "      <th></th>\n",
       "    </tr>\n",
       "  </thead>\n",
       "  <tbody>\n",
       "    <tr>\n",
       "      <th>1980</th>\n",
       "      <td>0.543613</td>\n",
       "    </tr>\n",
       "    <tr>\n",
       "      <th>1981</th>\n",
       "      <td>0.434125</td>\n",
       "    </tr>\n",
       "    <tr>\n",
       "      <th>1982</th>\n",
       "      <td>0.341835</td>\n",
       "    </tr>\n",
       "    <tr>\n",
       "      <th>1983</th>\n",
       "      <td>0.669096</td>\n",
       "    </tr>\n",
       "    <tr>\n",
       "      <th>1984</th>\n",
       "      <td>0.478605</td>\n",
       "    </tr>\n",
       "    <tr>\n",
       "      <th>1985</th>\n",
       "      <td>0.360934</td>\n",
       "    </tr>\n",
       "    <tr>\n",
       "      <th>1986</th>\n",
       "      <td>0.579651</td>\n",
       "    </tr>\n",
       "    <tr>\n",
       "      <th>1987</th>\n",
       "      <td>1.391004</td>\n",
       "    </tr>\n",
       "    <tr>\n",
       "      <th>1988</th>\n",
       "      <td>1.483537</td>\n",
       "    </tr>\n",
       "    <tr>\n",
       "      <th>1989</th>\n",
       "      <td>1.487812</td>\n",
       "    </tr>\n",
       "    <tr>\n",
       "      <th>1990</th>\n",
       "      <td>1.341491</td>\n",
       "    </tr>\n",
       "    <tr>\n",
       "      <th>1991</th>\n",
       "      <td>1.874806</td>\n",
       "    </tr>\n",
       "    <tr>\n",
       "      <th>1992</th>\n",
       "      <td>1.957238</td>\n",
       "    </tr>\n",
       "    <tr>\n",
       "      <th>1993</th>\n",
       "      <td>1.465239</td>\n",
       "    </tr>\n",
       "    <tr>\n",
       "      <th>1994</th>\n",
       "      <td>1.217162</td>\n",
       "    </tr>\n",
       "    <tr>\n",
       "      <th>1995</th>\n",
       "      <td>1.447864</td>\n",
       "    </tr>\n",
       "    <tr>\n",
       "      <th>1996</th>\n",
       "      <td>0.889981</td>\n",
       "    </tr>\n",
       "    <tr>\n",
       "      <th>1997</th>\n",
       "      <td>0.641670</td>\n",
       "    </tr>\n",
       "    <tr>\n",
       "      <th>1998</th>\n",
       "      <td>1.091602</td>\n",
       "    </tr>\n",
       "    <tr>\n",
       "      <th>1999</th>\n",
       "      <td>2.063222</td>\n",
       "    </tr>\n",
       "    <tr>\n",
       "      <th>2000</th>\n",
       "      <td>3.265133</td>\n",
       "    </tr>\n",
       "    <tr>\n",
       "      <th>2001</th>\n",
       "      <td>1.444245</td>\n",
       "    </tr>\n",
       "    <tr>\n",
       "      <th>2002</th>\n",
       "      <td>1.367103</td>\n",
       "    </tr>\n",
       "    <tr>\n",
       "      <th>2003</th>\n",
       "      <td>1.324626</td>\n",
       "    </tr>\n",
       "    <tr>\n",
       "      <th>2004</th>\n",
       "      <td>2.537639</td>\n",
       "    </tr>\n",
       "    <tr>\n",
       "      <th>2005</th>\n",
       "      <td>6.668005</td>\n",
       "    </tr>\n",
       "    <tr>\n",
       "      <th>2006</th>\n",
       "      <td>10.115805</td>\n",
       "    </tr>\n",
       "    <tr>\n",
       "      <th>2007</th>\n",
       "      <td>18.324843</td>\n",
       "    </tr>\n",
       "    <tr>\n",
       "      <th>2008</th>\n",
       "      <td>20.282716</td>\n",
       "    </tr>\n",
       "    <tr>\n",
       "      <th>2009</th>\n",
       "      <td>20.973447</td>\n",
       "    </tr>\n",
       "    <tr>\n",
       "      <th>2010</th>\n",
       "      <td>37.120351</td>\n",
       "    </tr>\n",
       "    <tr>\n",
       "      <th>2011</th>\n",
       "      <td>52.000618</td>\n",
       "    </tr>\n",
       "    <tr>\n",
       "      <th>2012</th>\n",
       "      <td>82.292817</td>\n",
       "    </tr>\n",
       "    <tr>\n",
       "      <th>2013</th>\n",
       "      <td>67.519269</td>\n",
       "    </tr>\n",
       "    <tr>\n",
       "      <th>2014</th>\n",
       "      <td>92.264654</td>\n",
       "    </tr>\n",
       "    <tr>\n",
       "      <th>2015</th>\n",
       "      <td>120.040000</td>\n",
       "    </tr>\n",
       "    <tr>\n",
       "      <th>2016</th>\n",
       "      <td>104.604008</td>\n",
       "    </tr>\n",
       "    <tr>\n",
       "      <th>2017</th>\n",
       "      <td>150.551075</td>\n",
       "    </tr>\n",
       "    <tr>\n",
       "      <th>2018</th>\n",
       "      <td>189.053427</td>\n",
       "    </tr>\n",
       "    <tr>\n",
       "      <th>2019</th>\n",
       "      <td>208.255952</td>\n",
       "    </tr>\n",
       "    <tr>\n",
       "      <th>2020</th>\n",
       "      <td>311.609499</td>\n",
       "    </tr>\n",
       "  </tbody>\n",
       "</table>\n",
       "</div>"
      ],
      "text/plain": [
       "           Close\n",
       "year            \n",
       "1980    0.543613\n",
       "1981    0.434125\n",
       "1982    0.341835\n",
       "1983    0.669096\n",
       "1984    0.478605\n",
       "1985    0.360934\n",
       "1986    0.579651\n",
       "1987    1.391004\n",
       "1988    1.483537\n",
       "1989    1.487812\n",
       "1990    1.341491\n",
       "1991    1.874806\n",
       "1992    1.957238\n",
       "1993    1.465239\n",
       "1994    1.217162\n",
       "1995    1.447864\n",
       "1996    0.889981\n",
       "1997    0.641670\n",
       "1998    1.091602\n",
       "1999    2.063222\n",
       "2000    3.265133\n",
       "2001    1.444245\n",
       "2002    1.367103\n",
       "2003    1.324626\n",
       "2004    2.537639\n",
       "2005    6.668005\n",
       "2006   10.115805\n",
       "2007   18.324843\n",
       "2008   20.282716\n",
       "2009   20.973447\n",
       "2010   37.120351\n",
       "2011   52.000618\n",
       "2012   82.292817\n",
       "2013   67.519269\n",
       "2014   92.264654\n",
       "2015  120.040000\n",
       "2016  104.604008\n",
       "2017  150.551075\n",
       "2018  189.053427\n",
       "2019  208.255952\n",
       "2020  311.609499"
      ]
     },
     "execution_count": 59,
     "metadata": {},
     "output_type": "execute_result"
    }
   ],
   "source": [
    "apple[['Close', 'year']].groupby('year').mean()"
   ]
  },
  {
   "cell_type": "markdown",
   "metadata": {},
   "source": [
    "# Pivot Table"
   ]
  },
  {
   "cell_type": "code",
   "execution_count": 61,
   "metadata": {},
   "outputs": [
    {
     "data": {
      "text/html": [
       "<div>\n",
       "<style scoped>\n",
       "    .dataframe tbody tr th:only-of-type {\n",
       "        vertical-align: middle;\n",
       "    }\n",
       "\n",
       "    .dataframe tbody tr th {\n",
       "        vertical-align: top;\n",
       "    }\n",
       "\n",
       "    .dataframe thead th {\n",
       "        text-align: right;\n",
       "    }\n",
       "</style>\n",
       "<table border=\"1\" class=\"dataframe\">\n",
       "  <thead>\n",
       "    <tr style=\"text-align: right;\">\n",
       "      <th>year</th>\n",
       "      <th>2010</th>\n",
       "      <th>2011</th>\n",
       "      <th>2012</th>\n",
       "      <th>2013</th>\n",
       "      <th>2014</th>\n",
       "      <th>2015</th>\n",
       "      <th>2016</th>\n",
       "      <th>2017</th>\n",
       "      <th>2018</th>\n",
       "      <th>2019</th>\n",
       "      <th>2020</th>\n",
       "    </tr>\n",
       "    <tr>\n",
       "      <th>month</th>\n",
       "      <th></th>\n",
       "      <th></th>\n",
       "      <th></th>\n",
       "      <th></th>\n",
       "      <th></th>\n",
       "      <th></th>\n",
       "      <th></th>\n",
       "      <th></th>\n",
       "      <th></th>\n",
       "      <th></th>\n",
       "      <th></th>\n",
       "    </tr>\n",
       "  </thead>\n",
       "  <tbody>\n",
       "    <tr>\n",
       "      <th>1</th>\n",
       "      <td>29.673609</td>\n",
       "      <td>48.340000</td>\n",
       "      <td>61.225428</td>\n",
       "      <td>71.117483</td>\n",
       "      <td>76.777959</td>\n",
       "      <td>110.641501</td>\n",
       "      <td>98.428946</td>\n",
       "      <td>119.570000</td>\n",
       "      <td>174.005237</td>\n",
       "      <td>154.166190</td>\n",
       "      <td>311.916191</td>\n",
       "    </tr>\n",
       "    <tr>\n",
       "      <th>2</th>\n",
       "      <td>28.399398</td>\n",
       "      <td>50.168948</td>\n",
       "      <td>71.081572</td>\n",
       "      <td>65.258422</td>\n",
       "      <td>75.225714</td>\n",
       "      <td>125.432105</td>\n",
       "      <td>95.746500</td>\n",
       "      <td>133.714209</td>\n",
       "      <td>167.638947</td>\n",
       "      <td>171.727893</td>\n",
       "      <td>311.270522</td>\n",
       "    </tr>\n",
       "    <tr>\n",
       "      <th>3</th>\n",
       "      <td>31.915838</td>\n",
       "      <td>49.641553</td>\n",
       "      <td>82.501104</td>\n",
       "      <td>63.120143</td>\n",
       "      <td>76.173468</td>\n",
       "      <td>125.970908</td>\n",
       "      <td>104.267273</td>\n",
       "      <td>140.617826</td>\n",
       "      <td>174.496192</td>\n",
       "      <td>183.293810</td>\n",
       "      <td>NaN</td>\n",
       "    </tr>\n",
       "    <tr>\n",
       "      <th>4</th>\n",
       "      <td>35.878368</td>\n",
       "      <td>48.630785</td>\n",
       "      <td>86.571857</td>\n",
       "      <td>59.966428</td>\n",
       "      <td>77.296327</td>\n",
       "      <td>127.291428</td>\n",
       "      <td>106.739048</td>\n",
       "      <td>142.886842</td>\n",
       "      <td>169.834287</td>\n",
       "      <td>200.516191</td>\n",
       "      <td>NaN</td>\n",
       "    </tr>\n",
       "    <tr>\n",
       "      <th>5</th>\n",
       "      <td>35.923071</td>\n",
       "      <td>48.826394</td>\n",
       "      <td>80.667597</td>\n",
       "      <td>63.778961</td>\n",
       "      <td>86.170817</td>\n",
       "      <td>128.761500</td>\n",
       "      <td>94.974762</td>\n",
       "      <td>152.227726</td>\n",
       "      <td>185.536818</td>\n",
       "      <td>191.273637</td>\n",
       "      <td>NaN</td>\n",
       "    </tr>\n",
       "    <tr>\n",
       "      <th>6</th>\n",
       "      <td>37.306494</td>\n",
       "      <td>47.297337</td>\n",
       "      <td>82.080340</td>\n",
       "      <td>60.791143</td>\n",
       "      <td>91.885443</td>\n",
       "      <td>127.806817</td>\n",
       "      <td>96.622273</td>\n",
       "      <td>147.831362</td>\n",
       "      <td>188.621429</td>\n",
       "      <td>192.969000</td>\n",
       "      <td>NaN</td>\n",
       "    </tr>\n",
       "    <tr>\n",
       "      <th>7</th>\n",
       "      <td>36.421429</td>\n",
       "      <td>53.176857</td>\n",
       "      <td>85.866871</td>\n",
       "      <td>61.308182</td>\n",
       "      <td>95.625909</td>\n",
       "      <td>125.335455</td>\n",
       "      <td>98.556500</td>\n",
       "      <td>148.299499</td>\n",
       "      <td>190.311429</td>\n",
       "      <td>205.216364</td>\n",
       "      <td>NaN</td>\n",
       "    </tr>\n",
       "    <tr>\n",
       "      <th>8</th>\n",
       "      <td>35.903312</td>\n",
       "      <td>53.823230</td>\n",
       "      <td>91.813727</td>\n",
       "      <td>69.263376</td>\n",
       "      <td>98.436667</td>\n",
       "      <td>113.394762</td>\n",
       "      <td>107.665218</td>\n",
       "      <td>159.021306</td>\n",
       "      <td>213.346089</td>\n",
       "      <td>204.957728</td>\n",
       "      <td>NaN</td>\n",
       "    </tr>\n",
       "    <tr>\n",
       "      <th>9</th>\n",
       "      <td>39.121564</td>\n",
       "      <td>56.070476</td>\n",
       "      <td>97.366918</td>\n",
       "      <td>68.597786</td>\n",
       "      <td>100.548572</td>\n",
       "      <td>112.797619</td>\n",
       "      <td>110.857142</td>\n",
       "      <td>157.608500</td>\n",
       "      <td>222.073685</td>\n",
       "      <td>217.994999</td>\n",
       "      <td>NaN</td>\n",
       "    </tr>\n",
       "    <tr>\n",
       "      <th>10</th>\n",
       "      <td>42.990612</td>\n",
       "      <td>56.747143</td>\n",
       "      <td>90.673469</td>\n",
       "      <td>72.106398</td>\n",
       "      <td>101.699566</td>\n",
       "      <td>113.360000</td>\n",
       "      <td>115.707143</td>\n",
       "      <td>157.817273</td>\n",
       "      <td>220.845652</td>\n",
       "      <td>235.286521</td>\n",
       "      <td>NaN</td>\n",
       "    </tr>\n",
       "    <tr>\n",
       "      <th>11</th>\n",
       "      <td>44.512585</td>\n",
       "      <td>54.973606</td>\n",
       "      <td>80.620817</td>\n",
       "      <td>74.945214</td>\n",
       "      <td>113.285263</td>\n",
       "      <td>118.162500</td>\n",
       "      <td>110.154285</td>\n",
       "      <td>172.406191</td>\n",
       "      <td>191.235714</td>\n",
       "      <td>262.520503</td>\n",
       "      <td>NaN</td>\n",
       "    </tr>\n",
       "    <tr>\n",
       "      <th>12</th>\n",
       "      <td>45.926559</td>\n",
       "      <td>56.132925</td>\n",
       "      <td>76.007857</td>\n",
       "      <td>79.951088</td>\n",
       "      <td>112.411364</td>\n",
       "      <td>111.726818</td>\n",
       "      <td>114.335714</td>\n",
       "      <td>171.891500</td>\n",
       "      <td>164.266317</td>\n",
       "      <td>276.525710</td>\n",
       "      <td>NaN</td>\n",
       "    </tr>\n",
       "  </tbody>\n",
       "</table>\n",
       "</div>"
      ],
      "text/plain": [
       "year        2010       2011       2012       2013        2014        2015  \\\n",
       "month                                                                       \n",
       "1      29.673609  48.340000  61.225428  71.117483   76.777959  110.641501   \n",
       "2      28.399398  50.168948  71.081572  65.258422   75.225714  125.432105   \n",
       "3      31.915838  49.641553  82.501104  63.120143   76.173468  125.970908   \n",
       "4      35.878368  48.630785  86.571857  59.966428   77.296327  127.291428   \n",
       "5      35.923071  48.826394  80.667597  63.778961   86.170817  128.761500   \n",
       "6      37.306494  47.297337  82.080340  60.791143   91.885443  127.806817   \n",
       "7      36.421429  53.176857  85.866871  61.308182   95.625909  125.335455   \n",
       "8      35.903312  53.823230  91.813727  69.263376   98.436667  113.394762   \n",
       "9      39.121564  56.070476  97.366918  68.597786  100.548572  112.797619   \n",
       "10     42.990612  56.747143  90.673469  72.106398  101.699566  113.360000   \n",
       "11     44.512585  54.973606  80.620817  74.945214  113.285263  118.162500   \n",
       "12     45.926559  56.132925  76.007857  79.951088  112.411364  111.726818   \n",
       "\n",
       "year         2016        2017        2018        2019        2020  \n",
       "month                                                              \n",
       "1       98.428946  119.570000  174.005237  154.166190  311.916191  \n",
       "2       95.746500  133.714209  167.638947  171.727893  311.270522  \n",
       "3      104.267273  140.617826  174.496192  183.293810         NaN  \n",
       "4      106.739048  142.886842  169.834287  200.516191         NaN  \n",
       "5       94.974762  152.227726  185.536818  191.273637         NaN  \n",
       "6       96.622273  147.831362  188.621429  192.969000         NaN  \n",
       "7       98.556500  148.299499  190.311429  205.216364         NaN  \n",
       "8      107.665218  159.021306  213.346089  204.957728         NaN  \n",
       "9      110.857142  157.608500  222.073685  217.994999         NaN  \n",
       "10     115.707143  157.817273  220.845652  235.286521         NaN  \n",
       "11     110.154285  172.406191  191.235714  262.520503         NaN  \n",
       "12     114.335714  171.891500  164.266317  276.525710         NaN  "
      ]
     },
     "execution_count": 61,
     "metadata": {},
     "output_type": "execute_result"
    }
   ],
   "source": [
    "pd.pivot_table(apple['2010':], index='month', columns='year', values='Close', aggfunc='mean')"
   ]
  },
  {
   "cell_type": "markdown",
   "metadata": {},
   "source": [
    "## Basic plot"
   ]
  },
  {
   "cell_type": "code",
   "execution_count": 62,
   "metadata": {},
   "outputs": [
    {
     "data": {
      "text/html": [
       "<div>\n",
       "<style scoped>\n",
       "    .dataframe tbody tr th:only-of-type {\n",
       "        vertical-align: middle;\n",
       "    }\n",
       "\n",
       "    .dataframe tbody tr th {\n",
       "        vertical-align: top;\n",
       "    }\n",
       "\n",
       "    .dataframe thead th {\n",
       "        text-align: right;\n",
       "    }\n",
       "</style>\n",
       "<table border=\"1\" class=\"dataframe\">\n",
       "  <thead>\n",
       "    <tr style=\"text-align: right;\">\n",
       "      <th></th>\n",
       "      <th>Open</th>\n",
       "      <th>High</th>\n",
       "      <th>Low</th>\n",
       "      <th>Close</th>\n",
       "      <th>Adj Close</th>\n",
       "      <th>Volume</th>\n",
       "    </tr>\n",
       "    <tr>\n",
       "      <th>Date</th>\n",
       "      <th></th>\n",
       "      <th></th>\n",
       "      <th></th>\n",
       "      <th></th>\n",
       "      <th></th>\n",
       "      <th></th>\n",
       "    </tr>\n",
       "  </thead>\n",
       "  <tbody>\n",
       "    <tr>\n",
       "      <th>1980-12-12</th>\n",
       "      <td>0.513393</td>\n",
       "      <td>0.515625</td>\n",
       "      <td>0.513393</td>\n",
       "      <td>0.513393</td>\n",
       "      <td>0.406782</td>\n",
       "      <td>117258400.0</td>\n",
       "    </tr>\n",
       "    <tr>\n",
       "      <th>1980-12-15</th>\n",
       "      <td>0.488839</td>\n",
       "      <td>0.488839</td>\n",
       "      <td>0.486607</td>\n",
       "      <td>0.486607</td>\n",
       "      <td>0.385558</td>\n",
       "      <td>43971200.0</td>\n",
       "    </tr>\n",
       "    <tr>\n",
       "      <th>1980-12-16</th>\n",
       "      <td>0.453125</td>\n",
       "      <td>0.453125</td>\n",
       "      <td>0.450893</td>\n",
       "      <td>0.450893</td>\n",
       "      <td>0.357260</td>\n",
       "      <td>26432000.0</td>\n",
       "    </tr>\n",
       "    <tr>\n",
       "      <th>1980-12-17</th>\n",
       "      <td>0.462054</td>\n",
       "      <td>0.464286</td>\n",
       "      <td>0.462054</td>\n",
       "      <td>0.462054</td>\n",
       "      <td>0.366103</td>\n",
       "      <td>21610400.0</td>\n",
       "    </tr>\n",
       "    <tr>\n",
       "      <th>1980-12-18</th>\n",
       "      <td>0.475446</td>\n",
       "      <td>0.477679</td>\n",
       "      <td>0.475446</td>\n",
       "      <td>0.475446</td>\n",
       "      <td>0.376715</td>\n",
       "      <td>18362400.0</td>\n",
       "    </tr>\n",
       "    <tr>\n",
       "      <th>...</th>\n",
       "      <td>...</td>\n",
       "      <td>...</td>\n",
       "      <td>...</td>\n",
       "      <td>...</td>\n",
       "      <td>...</td>\n",
       "      <td>...</td>\n",
       "    </tr>\n",
       "    <tr>\n",
       "      <th>2020-02-24</th>\n",
       "      <td>297.260010</td>\n",
       "      <td>304.179993</td>\n",
       "      <td>289.230011</td>\n",
       "      <td>298.179993</td>\n",
       "      <td>298.179993</td>\n",
       "      <td>55548800.0</td>\n",
       "    </tr>\n",
       "    <tr>\n",
       "      <th>2020-02-25</th>\n",
       "      <td>300.950012</td>\n",
       "      <td>302.529999</td>\n",
       "      <td>286.130005</td>\n",
       "      <td>288.079987</td>\n",
       "      <td>288.079987</td>\n",
       "      <td>57668400.0</td>\n",
       "    </tr>\n",
       "    <tr>\n",
       "      <th>2020-02-26</th>\n",
       "      <td>286.529999</td>\n",
       "      <td>297.880005</td>\n",
       "      <td>286.500000</td>\n",
       "      <td>292.649994</td>\n",
       "      <td>292.649994</td>\n",
       "      <td>49513700.0</td>\n",
       "    </tr>\n",
       "    <tr>\n",
       "      <th>2020-02-27</th>\n",
       "      <td>281.100006</td>\n",
       "      <td>286.000000</td>\n",
       "      <td>272.959991</td>\n",
       "      <td>273.519989</td>\n",
       "      <td>273.519989</td>\n",
       "      <td>80151400.0</td>\n",
       "    </tr>\n",
       "    <tr>\n",
       "      <th>2020-02-28</th>\n",
       "      <td>257.260010</td>\n",
       "      <td>278.410004</td>\n",
       "      <td>256.369995</td>\n",
       "      <td>273.359985</td>\n",
       "      <td>273.359985</td>\n",
       "      <td>106627500.0</td>\n",
       "    </tr>\n",
       "  </tbody>\n",
       "</table>\n",
       "<p>9887 rows × 6 columns</p>\n",
       "</div>"
      ],
      "text/plain": [
       "                  Open        High         Low       Close   Adj Close  \\\n",
       "Date                                                                     \n",
       "1980-12-12    0.513393    0.515625    0.513393    0.513393    0.406782   \n",
       "1980-12-15    0.488839    0.488839    0.486607    0.486607    0.385558   \n",
       "1980-12-16    0.453125    0.453125    0.450893    0.450893    0.357260   \n",
       "1980-12-17    0.462054    0.464286    0.462054    0.462054    0.366103   \n",
       "1980-12-18    0.475446    0.477679    0.475446    0.475446    0.376715   \n",
       "...                ...         ...         ...         ...         ...   \n",
       "2020-02-24  297.260010  304.179993  289.230011  298.179993  298.179993   \n",
       "2020-02-25  300.950012  302.529999  286.130005  288.079987  288.079987   \n",
       "2020-02-26  286.529999  297.880005  286.500000  292.649994  292.649994   \n",
       "2020-02-27  281.100006  286.000000  272.959991  273.519989  273.519989   \n",
       "2020-02-28  257.260010  278.410004  256.369995  273.359985  273.359985   \n",
       "\n",
       "                 Volume  \n",
       "Date                     \n",
       "1980-12-12  117258400.0  \n",
       "1980-12-15   43971200.0  \n",
       "1980-12-16   26432000.0  \n",
       "1980-12-17   21610400.0  \n",
       "1980-12-18   18362400.0  \n",
       "...                 ...  \n",
       "2020-02-24   55548800.0  \n",
       "2020-02-25   57668400.0  \n",
       "2020-02-26   49513700.0  \n",
       "2020-02-27   80151400.0  \n",
       "2020-02-28  106627500.0  \n",
       "\n",
       "[9887 rows x 6 columns]"
      ]
     },
     "execution_count": 62,
     "metadata": {},
     "output_type": "execute_result"
    }
   ],
   "source": [
    "data"
   ]
  },
  {
   "cell_type": "markdown",
   "metadata": {},
   "source": [
    "For quick and dirty plots, you can just use **plot**. It won't be pretty, but it will get the job done."
   ]
  },
  {
   "cell_type": "code",
   "execution_count": 63,
   "metadata": {},
   "outputs": [
    {
     "data": {
      "text/plain": [
       "<Axes: xlabel='Date'>"
      ]
     },
     "execution_count": 63,
     "metadata": {},
     "output_type": "execute_result"
    },
    {
     "data": {
      "image/png": "[encoded data removed]",
      "text/plain": [
       "<Figure size 1100x800 with 1 Axes>"
      ]
     },
     "metadata": {},
     "output_type": "display_data"
    }
   ],
   "source": [
    "data.plot(y='Close')"
   ]
  },
  {
   "cell_type": "markdown",
   "metadata": {},
   "source": [
    "Naturally, we can also choose the color of the line to use:"
   ]
  },
  {
   "cell_type": "code",
   "execution_count": 64,
   "metadata": {},
   "outputs": [
    {
     "data": {
      "text/plain": [
       "<Axes: xlabel='Date'>"
      ]
     },
     "execution_count": 64,
     "metadata": {},
     "output_type": "execute_result"
    },
    {
     "data": {
      "image/png": "[encoded data removed]",
      "text/plain": [
       "<Figure size 1100x800 with 1 Axes>"
      ]
     },
     "metadata": {},
     "output_type": "display_data"
    }
   ],
   "source": [
    "data.plot(y='Close', color='red')"
   ]
  },
  {
   "cell_type": "markdown",
   "metadata": {},
   "source": [
    "Easily add a legend"
   ]
  },
  {
   "cell_type": "code",
   "execution_count": 65,
   "metadata": {},
   "outputs": [
    {
     "data": {
      "text/plain": [
       "Text(0.5, 0, 'Date')"
      ]
     },
     "execution_count": 65,
     "metadata": {},
     "output_type": "execute_result"
    },
    {
     "data": {
      "image/png": "[encoded data removed]",
      "text/plain": [
       "<Figure size 1100x800 with 1 Axes>"
      ]
     },
     "metadata": {},
     "output_type": "display_data"
    }
   ],
   "source": [
    "ax = data.plot(y='Close', color='red', label='APPL Stock')\n",
    "ax.set_ylabel('Closing Price')\n",
    "ax.set_xlabel('Date')"
   ]
  },
  {
   "cell_type": "markdown",
   "metadata": {},
   "source": [
    "## Scatter plot"
   ]
  },
  {
   "cell_type": "markdown",
   "metadata": {},
   "source": [
    "Let's do something slightly more serious. We start by loading some data from a csv file using **pandas**.\n",
    "\n",
    "Marriage age data from: https://www.statcrunch.com/5.0/viewreport.php?reportid=41662"
   ]
  },
  {
   "cell_type": "code",
   "execution_count": 66,
   "metadata": {},
   "outputs": [],
   "source": [
    "ages = pd.read_csv('data/ages.csv')"
   ]
  },
  {
   "cell_type": "markdown",
   "metadata": {},
   "source": [
    "Let's take a quick look at the data to make sure it is correct."
   ]
  },
  {
   "cell_type": "code",
   "execution_count": 67,
   "metadata": {},
   "outputs": [
    {
     "data": {
      "text/html": [
       "<div>\n",
       "<style scoped>\n",
       "    .dataframe tbody tr th:only-of-type {\n",
       "        vertical-align: middle;\n",
       "    }\n",
       "\n",
       "    .dataframe tbody tr th {\n",
       "        vertical-align: top;\n",
       "    }\n",
       "\n",
       "    .dataframe thead th {\n",
       "        text-align: right;\n",
       "    }\n",
       "</style>\n",
       "<table border=\"1\" class=\"dataframe\">\n",
       "  <thead>\n",
       "    <tr style=\"text-align: right;\">\n",
       "      <th></th>\n",
       "      <th>Wife</th>\n",
       "      <th>Husband</th>\n",
       "    </tr>\n",
       "  </thead>\n",
       "  <tbody>\n",
       "    <tr>\n",
       "      <th>0</th>\n",
       "      <td>43</td>\n",
       "      <td>49</td>\n",
       "    </tr>\n",
       "    <tr>\n",
       "      <th>1</th>\n",
       "      <td>28</td>\n",
       "      <td>25</td>\n",
       "    </tr>\n",
       "    <tr>\n",
       "      <th>2</th>\n",
       "      <td>30</td>\n",
       "      <td>40</td>\n",
       "    </tr>\n",
       "    <tr>\n",
       "      <th>3</th>\n",
       "      <td>57</td>\n",
       "      <td>52</td>\n",
       "    </tr>\n",
       "    <tr>\n",
       "      <th>4</th>\n",
       "      <td>52</td>\n",
       "      <td>58</td>\n",
       "    </tr>\n",
       "  </tbody>\n",
       "</table>\n",
       "</div>"
      ],
      "text/plain": [
       "   Wife  Husband\n",
       "0    43       49\n",
       "1    28       25\n",
       "2    30       40\n",
       "3    57       52\n",
       "4    52       58"
      ]
     },
     "execution_count": 67,
     "metadata": {},
     "output_type": "execute_result"
    }
   ],
   "source": [
    "ages.head()"
   ]
  },
  {
   "cell_type": "code",
   "execution_count": 68,
   "metadata": {},
   "outputs": [
    {
     "data": {
      "text/plain": [
       "(170, 2)"
      ]
     },
     "execution_count": 68,
     "metadata": {},
     "output_type": "execute_result"
    }
   ],
   "source": [
    "ages.shape"
   ]
  },
  {
   "cell_type": "markdown",
   "metadata": {},
   "source": [
    "Naturally, we could also have used the pandas internal plotting functionality. Indeed, pandas, like many other plotting libraries just use matplotlib in the background so you can do things like:"
   ]
  },
  {
   "cell_type": "code",
   "execution_count": 71,
   "metadata": {},
   "outputs": [
    {
     "data": {
      "text/plain": [
       "<Axes: xlabel='Wife', ylabel='Husband'>"
      ]
     },
     "execution_count": 71,
     "metadata": {},
     "output_type": "execute_result"
    },
    {
     "data": {
      "image/png": "[encoded data removed]",
      "text/plain": [
       "<Figure size 1100x800 with 1 Axes>"
      ]
     },
     "metadata": {},
     "output_type": "display_data"
    }
   ],
   "source": [
    "ages.plot.scatter(x='Wife', y='Husband')"
   ]
  },
  {
   "cell_type": "code",
   "execution_count": 72,
   "metadata": {},
   "outputs": [
    {
     "data": {
      "text/plain": [
       "Text(0.5, 1.0, 'Age at marriage')"
      ]
     },
     "execution_count": 72,
     "metadata": {},
     "output_type": "execute_result"
    },
    {
     "data": {
      "image/png": "[encoded data removed]",
      "text/plain": [
       "<Figure size 1100x800 with 1 Axes>"
      ]
     },
     "metadata": {},
     "output_type": "display_data"
    }
   ],
   "source": [
    "ax = ages.plot.scatter(x='Wife',y='Husband')\n",
    "ax.set_xlabel(\"Wife's age\")\n",
    "ax.set_ylabel(\"Husband's age\")\n",
    "ax.set_title('Age at marriage')"
   ]
  },
  {
   "cell_type": "markdown",
   "metadata": {},
   "source": [
    "where we used **plt.gca()** to get a reference to the current Axes object generated by **pandas** that we were then free to customize using standard **matplotlib** commands. "
   ]
  },
  {
   "cell_type": "markdown",
   "metadata": {},
   "source": [
    "We can even add other plots to the axis object returned by **pandas**"
   ]
  },
  {
   "cell_type": "code",
   "execution_count": 73,
   "metadata": {},
   "outputs": [
    {
     "data": {
      "text/plain": [
       "<matplotlib.legend.Legend at 0x16bdb6a90>"
      ]
     },
     "execution_count": 73,
     "metadata": {},
     "output_type": "execute_result"
    },
    {
     "data": {
      "image/png": "[encoded data removed]",
      "text/plain": [
       "<Figure size 1100x800 with 1 Axes>"
      ]
     },
     "metadata": {},
     "output_type": "display_data"
    }
   ],
   "source": [
    "fit_x = np.arange(20, 65)\n",
    "fit_y = 3.59+0.97*fit_x\n",
    "\n",
    "ax = ages.plot.scatter(x='Wife',y='Husband')\n",
    "ax.set_xlabel(\"Wife's age\")\n",
    "ax.set_ylabel(\"Husband's age\")\n",
    "ax.set_title('Age at marriage')\n",
    "\n",
    "ax.plot(fit_x, fit_y, 'r-')\n",
    "\n",
    "ax.legend(['data', 'fit'])"
   ]
  },
  {
   "cell_type": "markdown",
   "metadata": {},
   "source": [
    "## Bar plot"
   ]
  },
  {
   "cell_type": "markdown",
   "metadata": {},
   "source": [
    "**pandas** supports several basic types of plots out of the box. To illustrate the bar plot we will use some made up data:"
   ]
  },
  {
   "cell_type": "code",
   "execution_count": 74,
   "metadata": {},
   "outputs": [],
   "source": [
    "dataLA = [20, 14, 23]\n",
    "dataSF = [11, 18, 28]\n",
    "\n",
    "bars = pd.DataFrame({'LA': dataLA, 'SF': dataSF})"
   ]
  },
  {
   "cell_type": "code",
   "execution_count": 75,
   "metadata": {},
   "outputs": [
    {
     "data": {
      "text/html": [
       "<div>\n",
       "<style scoped>\n",
       "    .dataframe tbody tr th:only-of-type {\n",
       "        vertical-align: middle;\n",
       "    }\n",
       "\n",
       "    .dataframe tbody tr th {\n",
       "        vertical-align: top;\n",
       "    }\n",
       "\n",
       "    .dataframe thead th {\n",
       "        text-align: right;\n",
       "    }\n",
       "</style>\n",
       "<table border=\"1\" class=\"dataframe\">\n",
       "  <thead>\n",
       "    <tr style=\"text-align: right;\">\n",
       "      <th></th>\n",
       "      <th>LA</th>\n",
       "      <th>SF</th>\n",
       "    </tr>\n",
       "  </thead>\n",
       "  <tbody>\n",
       "    <tr>\n",
       "      <th>0</th>\n",
       "      <td>20</td>\n",
       "      <td>11</td>\n",
       "    </tr>\n",
       "    <tr>\n",
       "      <th>1</th>\n",
       "      <td>14</td>\n",
       "      <td>18</td>\n",
       "    </tr>\n",
       "    <tr>\n",
       "      <th>2</th>\n",
       "      <td>23</td>\n",
       "      <td>28</td>\n",
       "    </tr>\n",
       "  </tbody>\n",
       "</table>\n",
       "</div>"
      ],
      "text/plain": [
       "   LA  SF\n",
       "0  20  11\n",
       "1  14  18\n",
       "2  23  28"
      ]
     },
     "execution_count": 75,
     "metadata": {},
     "output_type": "execute_result"
    }
   ],
   "source": [
    "bars"
   ]
  },
  {
   "cell_type": "markdown",
   "metadata": {},
   "source": [
    "Here we have two different datasets with 3 data points (classes) each. We could simply call **plt.bar** to generate the figure, similarly to what we did just above. In this case, we will take this opportunity to illustrate how to use **subplots** and the figure/axes interface in a relatively simple example. Afterward we will use this same interface to build more sophisticated examples."
   ]
  },
  {
   "cell_type": "code",
   "execution_count": 77,
   "metadata": {},
   "outputs": [
    {
     "data": {
      "text/plain": [
       "<matplotlib.legend.Legend at 0x16f325450>"
      ]
     },
     "execution_count": 77,
     "metadata": {},
     "output_type": "execute_result"
    },
    {
     "data": {
      "image/png": "[encoded data removed]",
      "text/plain": [
       "<Figure size 1400x1000 with 1 Axes>"
      ]
     },
     "metadata": {},
     "output_type": "display_data"
    }
   ],
   "source": [
    "ax = bars.plot(kind='bar')\n",
    "fig = plt.gcf()\n",
    "fig.set_size_inches(14, 10)\n",
    "\n",
    "ax.set_ylabel('Count')\n",
    "ax.set_xlabel('Classes')\n",
    "ax.set_xticklabels(('A', 'B', 'C'), rotation=0)\n",
    "\n",
    "ax.legend(['Los Angeles', 'San Francisco'])"
   ]
  },
  {
   "cell_type": "markdown",
   "metadata": {},
   "source": [
    "## Pie plot"
   ]
  },
  {
   "cell_type": "markdown",
   "metadata": {},
   "source": [
    "Pie plots are **EVIL**! But just in case you are too... Here we use the **figsize** parameter to **plt.figure** to set the figure size in inches. Notice that this is slightly different than what we did above."
   ]
  },
  {
   "cell_type": "code",
   "execution_count": 78,
   "metadata": {},
   "outputs": [
    {
     "data": {
      "text/plain": [
       "Text(0.5, 1.0, '$\\\\sum_i x_i^2$')"
      ]
     },
     "execution_count": 78,
     "metadata": {},
     "output_type": "execute_result"
    },
    {
     "data": {
      "image/png": "[encoded data removed]",
      "text/plain": [
       "<Figure size 1100x800 with 1 Axes>"
      ]
     },
     "metadata": {},
     "output_type": "display_data"
    }
   ],
   "source": [
    "data = pd.DataFrame({'y': [17, 18, 20, 22, 24]})\n",
    "\n",
    "ax_lst = data.plot(kind='pie', subplots=True)\n",
    "\n",
    "ax_lst[0].legend([\"A\", \"B\", \"C\", \"D\", \"E\"])\n",
    "ax_lst[0].set_title(r'$\\sum_i x_i^2$')"
   ]
  },
  {
   "cell_type": "markdown",
   "metadata": {},
   "source": [
    "## Comparison of Pie and Bar plots"
   ]
  },
  {
   "cell_type": "markdown",
   "metadata": {},
   "source": [
    "As we discussed, you should avoid using pie plots in most cases. This is specially true when the values of each wedge are very similar. To illustrate this point let's make up some data:"
   ]
  },
  {
   "cell_type": "code",
   "execution_count": 79,
   "metadata": {},
   "outputs": [],
   "source": [
    "data = pd.DataFrame({\n",
    "    'A':[17, 18, 20, 22, 24], \n",
    "    'B': [20, 20, 19, 21, 20],\n",
    "    'C': [24, 22, 20, 18, 17]\n",
    "})"
   ]
  },
  {
   "cell_type": "markdown",
   "metadata": {},
   "source": [
    "We'll plot these three datasets using both bar and pie plots. As we want to make sure we use the same colors for the corresponding bar/slice, we start by explicitly obtaining the color cycle"
   ]
  },
  {
   "cell_type": "code",
   "execution_count": 80,
   "metadata": {},
   "outputs": [
    {
     "name": "stdout",
     "output_type": "stream",
     "text": [
      "['#1f77b4', '#ff7f0e', '#2ca02c', '#d62728', '#9467bd', '#8c564b', '#e377c2', '#7f7f7f', '#bcbd22', '#17becf']\n"
     ]
    }
   ],
   "source": [
    "colors = plt.rcParams['axes.prop_cycle'].by_key()['color']\n",
    "print(colors)"
   ]
  },
  {
   "cell_type": "markdown",
   "metadata": {},
   "source": [
    "Now we can supply the right color sequence to use for the bars"
   ]
  },
  {
   "cell_type": "code",
   "execution_count": 72,
   "metadata": {},
   "outputs": [
    {
     "data": {
      "text/plain": [
       "(0.0, 25.0)"
      ]
     },
     "execution_count": 72,
     "metadata": {},
     "output_type": "execute_result"
    },
    {
     "data": {
      "image/png": "[encoded data removed]",
      "text/plain": [
       "<Figure size 1400x1000 with 6 Axes>"
      ]
     },
     "metadata": {},
     "output_type": "display_data"
    }
   ],
   "source": [
    "fig, axs = plt.subplots(nrows=2, ncols=3, sharey=False)\n",
    "fig.set_size_inches(14, 10)\n",
    "\n",
    "data.plot(y='A', kind='pie', ax=axs[0][0])\n",
    "data.plot(y='B', kind='pie', ax=axs[0][1], legend=None)\n",
    "data.plot(y='C', kind='pie', ax=axs[0][2], legend=None)\n",
    "\n",
    "data.plot(y='A', kind='bar', ax=axs[1][0], color=colors, legend=None)\n",
    "data.plot(y='B', kind='bar', ax=axs[1][1], color=colors, legend=None)\n",
    "data.plot(y='C', kind='bar', ax=axs[1][2], color=colors, legend=None)\n",
    "\n",
    "# Make sure every bar plot uses the same range\n",
    "axs[1][0].set_ylim(0, 25)\n",
    "axs[1][1].set_ylim(0, 25)\n",
    "axs[1][2].set_ylim(0, 25)"
   ]
  },
  {
   "cell_type": "markdown",
   "metadata": {},
   "source": [
    "As you can see, the differences are much more easily seen in the bar plots! This is also a nice illustration of how you can easily combine multiple different subplots into a compelling figure"
   ]
  },
  {
   "cell_type": "markdown",
   "metadata": {},
   "source": [
    "## Bubble plot"
   ]
  },
  {
   "cell_type": "markdown",
   "metadata": {},
   "source": [
    "We've covered the most fundamental functionality of **matplotlib**. With some creativity, we're already able to create some sophisticated types of visualizations. Let's start by loading some data from https://www.gapminder.org/"
   ]
  },
  {
   "cell_type": "code",
   "execution_count": 81,
   "metadata": {},
   "outputs": [],
   "source": [
    "data = pd.read_csv('data/gapminder.csv')"
   ]
  },
  {
   "cell_type": "markdown",
   "metadata": {},
   "source": [
    "And define some useful arrays."
   ]
  },
  {
   "cell_type": "code",
   "execution_count": 82,
   "metadata": {},
   "outputs": [],
   "source": [
    "colors = np.array([\n",
    "    '#5A6FFA',\n",
    "    '#E60DA1',\n",
    "    \"#7E7E7E\",\n",
    "    \"#B7F025\",\n",
    "    \"#FF9A1E\"])\n",
    "\n",
    "continents = [\n",
    "    'Africa',\n",
    "    'Americas',\n",
    "    'Asia',\n",
    "    'Europe',\n",
    "    'Oceania']"
   ]
  },
  {
   "cell_type": "markdown",
   "metadata": {},
   "source": [
    "Let's take a look at the data"
   ]
  },
  {
   "cell_type": "code",
   "execution_count": 83,
   "metadata": {},
   "outputs": [
    {
     "data": {
      "text/html": [
       "<div>\n",
       "<style scoped>\n",
       "    .dataframe tbody tr th:only-of-type {\n",
       "        vertical-align: middle;\n",
       "    }\n",
       "\n",
       "    .dataframe tbody tr th {\n",
       "        vertical-align: top;\n",
       "    }\n",
       "\n",
       "    .dataframe thead th {\n",
       "        text-align: right;\n",
       "    }\n",
       "</style>\n",
       "<table border=\"1\" class=\"dataframe\">\n",
       "  <thead>\n",
       "    <tr style=\"text-align: right;\">\n",
       "      <th></th>\n",
       "      <th>Country</th>\n",
       "      <th>GDP</th>\n",
       "      <th>Population</th>\n",
       "      <th>LifeExpectancy</th>\n",
       "      <th>Continent</th>\n",
       "    </tr>\n",
       "  </thead>\n",
       "  <tbody>\n",
       "    <tr>\n",
       "      <th>0</th>\n",
       "      <td>Algeria</td>\n",
       "      <td>6223.367465</td>\n",
       "      <td>33333216</td>\n",
       "      <td>72.301</td>\n",
       "      <td>0</td>\n",
       "    </tr>\n",
       "    <tr>\n",
       "      <th>1</th>\n",
       "      <td>Angola</td>\n",
       "      <td>4797.231267</td>\n",
       "      <td>12420476</td>\n",
       "      <td>42.731</td>\n",
       "      <td>0</td>\n",
       "    </tr>\n",
       "    <tr>\n",
       "      <th>2</th>\n",
       "      <td>Benin</td>\n",
       "      <td>1441.284873</td>\n",
       "      <td>8078314</td>\n",
       "      <td>56.728</td>\n",
       "      <td>0</td>\n",
       "    </tr>\n",
       "    <tr>\n",
       "      <th>3</th>\n",
       "      <td>Botswana</td>\n",
       "      <td>12569.851770</td>\n",
       "      <td>1639131</td>\n",
       "      <td>50.728</td>\n",
       "      <td>0</td>\n",
       "    </tr>\n",
       "    <tr>\n",
       "      <th>4</th>\n",
       "      <td>Burkina Faso</td>\n",
       "      <td>1217.032994</td>\n",
       "      <td>14326203</td>\n",
       "      <td>52.295</td>\n",
       "      <td>0</td>\n",
       "    </tr>\n",
       "  </tbody>\n",
       "</table>\n",
       "</div>"
      ],
      "text/plain": [
       "        Country           GDP  Population  LifeExpectancy  Continent\n",
       "0       Algeria   6223.367465    33333216          72.301          0\n",
       "1        Angola   4797.231267    12420476          42.731          0\n",
       "2         Benin   1441.284873     8078314          56.728          0\n",
       "3      Botswana  12569.851770     1639131          50.728          0\n",
       "4  Burkina Faso   1217.032994    14326203          52.295          0"
      ]
     },
     "execution_count": 83,
     "metadata": {},
     "output_type": "execute_result"
    }
   ],
   "source": [
    "data.head()"
   ]
  },
  {
   "cell_type": "markdown",
   "metadata": {},
   "source": [
    "As we can see, there are several features associated with each country. Here we will create a Bubble plot to encode all 4 features in a single plot:\n",
    "\n",
    "-  GDP - x-axis, log scale\n",
    "-  Life Expectancy - y-axis, linear scale\n",
    "-  Population - bubble size/area\n",
    "-  Continent - bubble color\n",
    "\n",
    "Finally, we will manually add a legend using **ax.text** to write the name of each continent with the respective color. "
   ]
  },
  {
   "cell_type": "code",
   "execution_count": 85,
   "metadata": {},
   "outputs": [
    {
     "data": {
      "image/png": "[encoded data removed]",
      "text/plain": [
       "<Figure size 1400x1000 with 1 Axes>"
      ]
     },
     "metadata": {},
     "output_type": "display_data"
    }
   ],
   "source": [
    "fig, ax = plt.subplots(1, figsize=(14, 10))\n",
    "\n",
    "for i in range(5):\n",
    "    continent = data[data['Continent']==i]\n",
    "    \n",
    "    ax.scatter(continent['GDP'], # x-axis\n",
    "               continent['LifeExpectancy'], # y-axis\n",
    "               s=continent['Population']/200_000, # Bubble size\n",
    "               c=colors[i], # Bubble color\n",
    "               alpha=0.5) # Transparency\n",
    "\n",
    "ax.set_xscale('log')\n",
    "\n",
    "# Add the legend manually\n",
    "for i in range(len(continents)):\n",
    "    ax.text(300, 83-i*2, continents[i], color=colors[i], fontsize=18)\n",
    "\n",
    "ax.set_xlabel('GDP Per Capita')\n",
    "ax.set_ylabel('Life Expectancy')\n",
    "\n",
    "fig.tight_layout()"
   ]
  },
  {
   "cell_type": "markdown",
   "metadata": {},
   "source": [
    "This kind of plot was made famoous by Hans Rosling, one of the great science communicators of our time, during his Gapminder Foundation work. If you haven't seen it, I highly recommend his [TED talk](https://www.youtube.com/watch?v=hVimVzgtD6w) and his recent (postumous) book [Factfulness: Ten Reasons We're Wrong About the World](https://www.amazon.com/Factfulness-Reasons-Wrong-Things-Better-ebook/dp/B0769XK7D6)"
   ]
  },
  {
   "cell_type": "markdown",
   "metadata": {},
   "source": [
    "<div style=\"width: 100%; overflow: hidden;\">\n",
    "     <img src=\"data/D4Sci_logo_full.png\" alt=\"Data For Science, Inc\" align=\"center\" border=\"0\" width=300px> \n",
    "</div>"
   ]
  }
 ],
 "metadata": {
  "anaconda-cloud": {},
  "kernelspec": {
   "display_name": "Python 3 (ipykernel)",
   "language": "python",
   "name": "python3"
  },
  "language_info": {
   "codemirror_mode": {
    "name": "ipython",
    "version": 3
   },
   "file_extension": ".py",
   "mimetype": "text/x-python",
   "name": "python",
   "nbconvert_exporter": "python",
   "pygments_lexer": "ipython3",
   "version": "3.11.7"
  },
  "toc": {
   "base_numbering": 1,
   "nav_menu": {},
   "number_sections": true,
   "sideBar": true,
   "skip_h1_title": true,
   "title_cell": "Table of Contents",
   "title_sidebar": "Contents",
   "toc_cell": false,
   "toc_position": {},
   "toc_section_display": true,
   "toc_window_display": false
  },
  "varInspector": {
   "cols": {
    "lenName": 16,
    "lenType": 16,
    "lenVar": 40
   },
   "kernels_config": {
    "python": {
     "delete_cmd_postfix": "",
     "delete_cmd_prefix": "del ",
     "library": "var_list.py",
     "varRefreshCmd": "print(var_dic_list())"
    },
    "r": {
     "delete_cmd_postfix": ") ",
     "delete_cmd_prefix": "rm(",
     "library": "var_list.r",
     "varRefreshCmd": "cat(var_dic_list()) "
    }
   },
   "types_to_exclude": [
    "module",
    "function",
    "builtin_function_or_method",
    "instance",
    "_Feature"
   ],
   "window_display": false
  }
 },
 "nbformat": 4,
 "nbformat_minor": 2
}
